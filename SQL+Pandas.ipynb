{
  "cells": [
    {
      "cell_type": "markdown",
      "metadata": {
        "id": "cKWdI8C3WHHp"
      },
      "source": [
        "Rapport des VENTES en utilisant SQL et Pandas"
      ]
    },
    {
      "cell_type": "markdown",
      "metadata": {
        "id": "k-Kk_YVtWNYn"
      },
      "source": [
        "Importation et installation des dépendances:"
      ]
    },
    {
      "cell_type": "code",
      "execution_count": null,
      "metadata": {
        "id": "3dSfUQy6WG4D"
      },
      "outputs": [],
      "source": [
        "# import sys\n",
        "# !{sys.executable} -m pip install fpdf -q\n",
        "# !{sys.executable} -m pip install pandas -q\n",
        "# !{sys.executable} -m pip install plotly-express -q\n",
        "# !{sys.executable} -m pip install kaleido -q"
      ]
    },
    {
      "cell_type": "code",
      "execution_count": null,
      "metadata": {
        "id": "uw0Ca_GIV892"
      },
      "outputs": [],
      "source": [
        "import sys"
      ]
    },
    {
      "cell_type": "code",
      "execution_count": 1,
      "metadata": {
        "id": "VxX4S_FhWeNJ"
      },
      "outputs": [
        {
          "name": "stderr",
          "output_type": "stream",
          "text": [
            "'{sys.executable}' n'est pas reconnu en tant que commande interne\n",
            "ou externe, un programme ex�cutable ou un fichier de commandes.\n",
            "'{sys.executable}' n'est pas reconnu en tant que commande interne\n",
            "ou externe, un programme ex�cutable ou un fichier de commandes.\n",
            "'{sys.executable}' n'est pas reconnu en tant que commande interne\n",
            "ou externe, un programme ex�cutable ou un fichier de commandes.\n",
            "'{sys.executable}' n'est pas reconnu en tant que commande interne\n",
            "ou externe, un programme ex�cutable ou un fichier de commandes.\n"
          ]
        }
      ],
      "source": [
        "!{sys.executable} -m pip3 install fpdf -q\n",
        "!{sys.executable} -m pip3 install pandas -q\n",
        "!{sys.executable} -m pip3 install plotly-express -q\n",
        "!{sys.executable} -m pip3 install kaleido -q"
      ]
    },
    {
      "cell_type": "code",
      "execution_count": 4,
      "metadata": {},
      "outputs": [
        {
          "name": "stdout",
          "output_type": "stream",
          "text": [
            "Collecting pandas\n",
            "  Downloading pandas-2.2.0-cp39-cp39-win_amd64.whl.metadata (19 kB)\n",
            "Collecting numpy<2,>=1.22.4 (from pandas)\n",
            "  Downloading numpy-1.26.3-cp39-cp39-win_amd64.whl.metadata (61 kB)\n",
            "     ---------------------------------------- 0.0/61.2 kB ? eta -:--:--\n",
            "     ------------------------- ------------ 41.0/61.2 kB 960.0 kB/s eta 0:00:01\n",
            "     ---------------------------------------- 61.2/61.2 kB 1.1 MB/s eta 0:00:00\n",
            "Requirement already satisfied: python-dateutil>=2.8.2 in c:\\users\\debbi\\anaconda3\\envs\\spark\\lib\\site-packages (from pandas) (2.8.2)\n",
            "Collecting pytz>=2020.1 (from pandas)\n",
            "  Downloading pytz-2023.4-py2.py3-none-any.whl.metadata (22 kB)\n",
            "Collecting tzdata>=2022.7 (from pandas)\n",
            "  Downloading tzdata-2023.4-py2.py3-none-any.whl.metadata (1.4 kB)\n",
            "Requirement already satisfied: six>=1.5 in c:\\users\\debbi\\anaconda3\\envs\\spark\\lib\\site-packages (from python-dateutil>=2.8.2->pandas) (1.16.0)\n",
            "Downloading pandas-2.2.0-cp39-cp39-win_amd64.whl (11.6 MB)\n",
            "   ---------------------------------------- 0.0/11.6 MB ? eta -:--:--\n",
            "   --- ------------------------------------ 1.0/11.6 MB 21.1 MB/s eta 0:00:01\n",
            "   --------- ------------------------------ 2.8/11.6 MB 30.1 MB/s eta 0:00:01\n",
            "   ---------------- ----------------------- 4.9/11.6 MB 34.6 MB/s eta 0:00:01\n",
            "   ------------------------- -------------- 7.3/11.6 MB 38.7 MB/s eta 0:00:01\n",
            "   ---------------------------------- ----- 10.0/11.6 MB 39.9 MB/s eta 0:00:01\n",
            "   ---------------------------------------- 11.6/11.6 MB 43.7 MB/s eta 0:00:00\n",
            "Downloading numpy-1.26.3-cp39-cp39-win_amd64.whl (15.8 MB)\n",
            "   ---------------------------------------- 0.0/15.8 MB ? eta -:--:--\n",
            "   ----- ---------------------------------- 2.4/15.8 MB 50.1 MB/s eta 0:00:01\n",
            "   ------------ --------------------------- 4.9/15.8 MB 52.3 MB/s eta 0:00:01\n",
            "   ----------------- ---------------------- 7.0/15.8 MB 44.7 MB/s eta 0:00:01\n",
            "   ----------------------- ---------------- 9.2/15.8 MB 45.1 MB/s eta 0:00:01\n",
            "   ----------------------------- ---------- 11.7/15.8 MB 43.7 MB/s eta 0:00:01\n",
            "   ------------------------------------ --- 14.3/15.8 MB 46.7 MB/s eta 0:00:01\n",
            "   ---------------------------------------  15.6/15.8 MB 46.7 MB/s eta 0:00:01\n",
            "   ---------------------------------------- 15.8/15.8 MB 36.3 MB/s eta 0:00:00\n",
            "Downloading pytz-2023.4-py2.py3-none-any.whl (506 kB)\n",
            "   ---------------------------------------- 0.0/506.5 kB ? eta -:--:--\n",
            "   --------------------------------------- 506.5/506.5 kB 31.0 MB/s eta 0:00:00\n",
            "Downloading tzdata-2023.4-py2.py3-none-any.whl (346 kB)\n",
            "   ---------------------------------------- 0.0/346.6 kB ? eta -:--:--\n",
            "   --------------------------------------- 346.6/346.6 kB 21.0 MB/s eta 0:00:00\n",
            "Installing collected packages: pytz, tzdata, numpy, pandas\n",
            "Successfully installed numpy-1.26.3 pandas-2.2.0 pytz-2023.4 tzdata-2023.4\n"
          ]
        }
      ],
      "source": [
        "!pip install pandas\n"
      ]
    },
    {
      "cell_type": "code",
      "execution_count": 6,
      "metadata": {},
      "outputs": [
        {
          "name": "stdout",
          "output_type": "stream",
          "text": [
            "Collecting plotly\n",
            "  Downloading plotly-5.18.0-py3-none-any.whl.metadata (7.0 kB)\n",
            "Collecting tenacity>=6.2.0 (from plotly)\n",
            "  Downloading tenacity-8.2.3-py3-none-any.whl.metadata (1.0 kB)\n",
            "Requirement already satisfied: packaging in c:\\users\\debbi\\anaconda3\\envs\\spark\\lib\\site-packages (from plotly) (23.2)\n",
            "Downloading plotly-5.18.0-py3-none-any.whl (15.6 MB)\n",
            "   ---------------------------------------- 0.0/15.6 MB ? eta -:--:--\n",
            "   ---------------------------------------- 0.0/15.6 MB ? eta -:--:--\n",
            "    --------------------------------------- 0.3/15.6 MB 5.0 MB/s eta 0:00:04\n",
            "   ------ --------------------------------- 2.4/15.6 MB 21.7 MB/s eta 0:00:01\n",
            "   ------------ --------------------------- 4.8/15.6 MB 28.1 MB/s eta 0:00:01\n",
            "   ------------------ --------------------- 7.2/15.6 MB 33.0 MB/s eta 0:00:01\n",
            "   ------------------------- -------------- 9.9/15.6 MB 37.3 MB/s eta 0:00:01\n",
            "   -------------------------------- ------- 12.7/15.6 MB 54.4 MB/s eta 0:00:01\n",
            "   ---------------------------------------  15.4/15.6 MB 54.4 MB/s eta 0:00:01\n",
            "   ---------------------------------------- 15.6/15.6 MB 46.7 MB/s eta 0:00:00\n",
            "Downloading tenacity-8.2.3-py3-none-any.whl (24 kB)\n",
            "Installing collected packages: tenacity, plotly\n",
            "Successfully installed plotly-5.18.0 tenacity-8.2.3\n"
          ]
        }
      ],
      "source": [
        "! pip install plotly"
      ]
    },
    {
      "cell_type": "code",
      "execution_count": 9,
      "metadata": {},
      "outputs": [
        {
          "name": "stdout",
          "output_type": "stream",
          "text": [
            "Requirement already satisfied: cufflinks in c:\\users\\debbi\\anaconda3\\envs\\spark\\lib\\site-packages (0.17.3)\n",
            "Requirement already satisfied: numpy>=1.9.2 in c:\\users\\debbi\\anaconda3\\envs\\spark\\lib\\site-packages (from cufflinks) (1.26.3)\n",
            "Requirement already satisfied: pandas>=0.19.2 in c:\\users\\debbi\\anaconda3\\envs\\spark\\lib\\site-packages (from cufflinks) (2.2.0)\n",
            "Requirement already satisfied: plotly>=4.1.1 in c:\\users\\debbi\\anaconda3\\envs\\spark\\lib\\site-packages (from cufflinks) (5.18.0)\n",
            "Requirement already satisfied: six>=1.9.0 in c:\\users\\debbi\\anaconda3\\envs\\spark\\lib\\site-packages (from cufflinks) (1.16.0)\n",
            "Requirement already satisfied: colorlover>=0.2.1 in c:\\users\\debbi\\anaconda3\\envs\\spark\\lib\\site-packages (from cufflinks) (0.3.0)\n",
            "Requirement already satisfied: setuptools>=34.4.1 in c:\\users\\debbi\\anaconda3\\envs\\spark\\lib\\site-packages (from cufflinks) (68.0.0)\n",
            "Requirement already satisfied: ipython>=5.3.0 in c:\\users\\debbi\\anaconda3\\envs\\spark\\lib\\site-packages (from cufflinks) (8.12.0)\n",
            "Requirement already satisfied: ipywidgets>=7.0.0 in c:\\users\\debbi\\anaconda3\\envs\\spark\\lib\\site-packages (from cufflinks) (8.1.1)\n",
            "Requirement already satisfied: backcall in c:\\users\\debbi\\anaconda3\\envs\\spark\\lib\\site-packages (from ipython>=5.3.0->cufflinks) (0.2.0)\n",
            "Requirement already satisfied: decorator in c:\\users\\debbi\\anaconda3\\envs\\spark\\lib\\site-packages (from ipython>=5.3.0->cufflinks) (5.1.1)\n",
            "Requirement already satisfied: jedi>=0.16 in c:\\users\\debbi\\anaconda3\\envs\\spark\\lib\\site-packages (from ipython>=5.3.0->cufflinks) (0.19.1)\n",
            "Requirement already satisfied: matplotlib-inline in c:\\users\\debbi\\anaconda3\\envs\\spark\\lib\\site-packages (from ipython>=5.3.0->cufflinks) (0.1.6)\n",
            "Requirement already satisfied: pickleshare in c:\\users\\debbi\\anaconda3\\envs\\spark\\lib\\site-packages (from ipython>=5.3.0->cufflinks) (0.7.5)\n",
            "Requirement already satisfied: prompt-toolkit!=3.0.37,<3.1.0,>=3.0.30 in c:\\users\\debbi\\anaconda3\\envs\\spark\\lib\\site-packages (from ipython>=5.3.0->cufflinks) (3.0.42)\n",
            "Requirement already satisfied: pygments>=2.4.0 in c:\\users\\debbi\\anaconda3\\envs\\spark\\lib\\site-packages (from ipython>=5.3.0->cufflinks) (2.17.2)\n",
            "Requirement already satisfied: stack-data in c:\\users\\debbi\\anaconda3\\envs\\spark\\lib\\site-packages (from ipython>=5.3.0->cufflinks) (0.6.2)\n",
            "Requirement already satisfied: traitlets>=5 in c:\\users\\debbi\\anaconda3\\envs\\spark\\lib\\site-packages (from ipython>=5.3.0->cufflinks) (5.14.1)\n",
            "Requirement already satisfied: typing-extensions in c:\\users\\debbi\\anaconda3\\envs\\spark\\lib\\site-packages (from ipython>=5.3.0->cufflinks) (4.9.0)\n",
            "Requirement already satisfied: colorama in c:\\users\\debbi\\anaconda3\\envs\\spark\\lib\\site-packages (from ipython>=5.3.0->cufflinks) (0.4.6)\n",
            "Requirement already satisfied: comm>=0.1.3 in c:\\users\\debbi\\anaconda3\\envs\\spark\\lib\\site-packages (from ipywidgets>=7.0.0->cufflinks) (0.2.1)\n",
            "Requirement already satisfied: widgetsnbextension~=4.0.9 in c:\\users\\debbi\\anaconda3\\envs\\spark\\lib\\site-packages (from ipywidgets>=7.0.0->cufflinks) (4.0.9)\n",
            "Requirement already satisfied: jupyterlab-widgets~=3.0.9 in c:\\users\\debbi\\anaconda3\\envs\\spark\\lib\\site-packages (from ipywidgets>=7.0.0->cufflinks) (3.0.9)\n",
            "Requirement already satisfied: python-dateutil>=2.8.2 in c:\\users\\debbi\\anaconda3\\envs\\spark\\lib\\site-packages (from pandas>=0.19.2->cufflinks) (2.8.2)\n",
            "Requirement already satisfied: pytz>=2020.1 in c:\\users\\debbi\\anaconda3\\envs\\spark\\lib\\site-packages (from pandas>=0.19.2->cufflinks) (2023.4)\n",
            "Requirement already satisfied: tzdata>=2022.7 in c:\\users\\debbi\\anaconda3\\envs\\spark\\lib\\site-packages (from pandas>=0.19.2->cufflinks) (2023.4)\n",
            "Requirement already satisfied: tenacity>=6.2.0 in c:\\users\\debbi\\anaconda3\\envs\\spark\\lib\\site-packages (from plotly>=4.1.1->cufflinks) (8.2.3)\n",
            "Requirement already satisfied: packaging in c:\\users\\debbi\\anaconda3\\envs\\spark\\lib\\site-packages (from plotly>=4.1.1->cufflinks) (23.2)\n",
            "Requirement already satisfied: parso<0.9.0,>=0.8.3 in c:\\users\\debbi\\anaconda3\\envs\\spark\\lib\\site-packages (from jedi>=0.16->ipython>=5.3.0->cufflinks) (0.8.3)\n",
            "Requirement already satisfied: wcwidth in c:\\users\\debbi\\anaconda3\\envs\\spark\\lib\\site-packages (from prompt-toolkit!=3.0.37,<3.1.0,>=3.0.30->ipython>=5.3.0->cufflinks) (0.2.13)\n",
            "Requirement already satisfied: executing>=1.2.0 in c:\\users\\debbi\\anaconda3\\envs\\spark\\lib\\site-packages (from stack-data->ipython>=5.3.0->cufflinks) (2.0.1)\n",
            "Requirement already satisfied: asttokens>=2.1.0 in c:\\users\\debbi\\anaconda3\\envs\\spark\\lib\\site-packages (from stack-data->ipython>=5.3.0->cufflinks) (2.4.1)\n",
            "Requirement already satisfied: pure-eval in c:\\users\\debbi\\anaconda3\\envs\\spark\\lib\\site-packages (from stack-data->ipython>=5.3.0->cufflinks) (0.2.2)\n",
            "Collecting fpdf2\n",
            "  Downloading fpdf2-2.7.7-py2.py3-none-any.whl.metadata (55 kB)\n",
            "     ---------------------------------------- 0.0/55.8 kB ? eta -:--:--\n",
            "     ------------- ------------------------ 20.5/55.8 kB 330.3 kB/s eta 0:00:01\n",
            "     -------------------------------------- 55.8/55.8 kB 584.5 kB/s eta 0:00:00\n",
            "Collecting defusedxml (from fpdf2)\n",
            "  Downloading defusedxml-0.7.1-py2.py3-none-any.whl (25 kB)\n",
            "Collecting Pillow!=9.2.*,>=6.2.2 (from fpdf2)\n",
            "  Downloading pillow-10.2.0-cp39-cp39-win_amd64.whl.metadata (9.9 kB)\n",
            "Collecting fonttools>=4.34.0 (from fpdf2)\n",
            "  Downloading fonttools-4.47.2-cp39-cp39-win_amd64.whl.metadata (160 kB)\n",
            "     ---------------------------------------- 0.0/160.8 kB ? eta -:--:--\n",
            "     -------------------------------------- 160.8/160.8 kB 9.4 MB/s eta 0:00:00\n",
            "Downloading fpdf2-2.7.7-py2.py3-none-any.whl (193 kB)\n",
            "   ---------------------------------------- 0.0/193.5 kB ? eta -:--:--\n",
            "   ---------------------------------------- 193.5/193.5 kB ? eta 0:00:00\n",
            "Downloading fonttools-4.47.2-cp39-cp39-win_amd64.whl (2.2 MB)\n",
            "   ---------------------------------------- 0.0/2.2 MB ? eta -:--:--\n",
            "   ------------------------------ --------- 1.7/2.2 MB 36.3 MB/s eta 0:00:01\n",
            "   ---------------------------------------- 2.2/2.2 MB 35.0 MB/s eta 0:00:00\n",
            "Downloading pillow-10.2.0-cp39-cp39-win_amd64.whl (2.6 MB)\n",
            "   ---------------------------------------- 0.0/2.6 MB ? eta -:--:--\n",
            "   ------------------------------------ --- 2.4/2.6 MB 50.3 MB/s eta 0:00:01\n",
            "   ---------------------------------------- 2.6/2.6 MB 42.1 MB/s eta 0:00:00\n",
            "Installing collected packages: Pillow, fonttools, defusedxml, fpdf2\n",
            "Successfully installed Pillow-10.2.0 defusedxml-0.7.1 fonttools-4.47.2 fpdf2-2.7.7\n"
          ]
        }
      ],
      "source": [
        "! pip install cufflinks\n",
        "! pip install fpdf2"
      ]
    },
    {
      "cell_type": "code",
      "execution_count": 10,
      "metadata": {
        "id": "kbsZyjb1Wj-_"
      },
      "outputs": [],
      "source": [
        "from datetime import date\n",
        "from pathlib import Path\n",
        "import sqlite3\n",
        "\n",
        "import pandas as pd  # pip install pandas\n",
        "import plotly.express as px  # pip install plotly-express kaleido\n",
        "from fpdf import FPDF  # pip install fpdf"
      ]
    },
    {
      "cell_type": "markdown",
      "metadata": {
        "id": "U4L5dbgtmBBY"
      },
      "source": [
        "Definition des Paths et du style graphique"
      ]
    },
    {
      "cell_type": "code",
      "execution_count": 11,
      "metadata": {
        "id": "hKG7M0MhWokG"
      },
      "outputs": [],
      "source": [
        "plotly_template = \"presentation\""
      ]
    },
    {
      "cell_type": "code",
      "execution_count": 12,
      "metadata": {
        "id": "8h9RtASOoY4y"
      },
      "outputs": [],
      "source": [
        "# Define the paths\n",
        "current_dir = Path(__file__).parent if \"__file__\" in locals() else Path.cwd()\n",
        "database_path = current_dir / \"sales.db\"\n",
        "output_dir = current_dir / \"output\"\n",
        "\n",
        "# Create the output directory and its parent directory if they do not exist\n",
        "output_dir.mkdir(parents=True, exist_ok=True)"
      ]
    },
    {
      "cell_type": "markdown",
      "metadata": {
        "id": "ixDACvDzohxR"
      },
      "source": [
        "Total des ventes par mois\n"
      ]
    },
    {
      "cell_type": "code",
      "execution_count": 13,
      "metadata": {
        "id": "kVthmOnpodjq"
      },
      "outputs": [
        {
          "ename": "SyntaxError",
          "evalue": "invalid syntax (1868713084.py, line 2)",
          "output_type": "error",
          "traceback": [
            "\u001b[1;36m  Cell \u001b[1;32mIn[13], line 2\u001b[1;36m\u001b[0m\n\u001b[1;33m    current_dir=Path(_file__).parent if \"__file__\" in locals ( else Path.cwd())\u001b[0m\n\u001b[1;37m                                                               ^\u001b[0m\n\u001b[1;31mSyntaxError\u001b[0m\u001b[1;31m:\u001b[0m invalid syntax\n"
          ]
        }
      ],
      "source": [
        "#definition du chemin"
      ]
    },
    {
      "cell_type": "code",
      "execution_count": 16,
      "metadata": {},
      "outputs": [
        {
          "name": "stdout",
          "output_type": "stream",
          "text": [
            "c:\\Users\\debbi\\Desktop\\SQL_project\n"
          ]
        }
      ],
      "source": [
        "#definition du chemin\n",
        "current_dir = Path(__file__).parent if \"__file__\" in locals() else Path.cwd()\n",
        "print(current_dir)"
      ]
    },
    {
      "cell_type": "markdown",
      "metadata": {},
      "source": [
        "Total des ventes par mois:"
      ]
    },
    {
      "cell_type": "code",
      "execution_count": 18,
      "metadata": {},
      "outputs": [],
      "source": [
        "# Create a connection to the database\n",
        "conn = sqlite3.connect(database_path)\n"
      ]
    },
    {
      "cell_type": "code",
      "execution_count": 44,
      "metadata": {},
      "outputs": [],
      "source": [
        "query = '''\n",
        "SELECT sale_date, SUM(total_price) as total_sales\n",
        "FROM sales\n",
        "GROUP BY sale_date\n",
        "ORDER BY sale_date ASC\n",
        "'''\n",
        "df = pd.read_sql_query(query, conn)"
      ]
    },
    {
      "cell_type": "code",
      "execution_count": 45,
      "metadata": {},
      "outputs": [
        {
          "data": {
            "text/html": [
              "<div>\n",
              "<style scoped>\n",
              "    .dataframe tbody tr th:only-of-type {\n",
              "        vertical-align: middle;\n",
              "    }\n",
              "\n",
              "    .dataframe tbody tr th {\n",
              "        vertical-align: top;\n",
              "    }\n",
              "\n",
              "    .dataframe thead th {\n",
              "        text-align: right;\n",
              "    }\n",
              "</style>\n",
              "<table border=\"1\" class=\"dataframe\">\n",
              "  <thead>\n",
              "    <tr style=\"text-align: right;\">\n",
              "      <th></th>\n",
              "      <th>sale_date</th>\n",
              "      <th>total_sales</th>\n",
              "    </tr>\n",
              "  </thead>\n",
              "  <tbody>\n",
              "    <tr>\n",
              "      <th>0</th>\n",
              "      <td>2022-01-01</td>\n",
              "      <td>525</td>\n",
              "    </tr>\n",
              "    <tr>\n",
              "      <th>1</th>\n",
              "      <td>2022-01-02</td>\n",
              "      <td>125</td>\n",
              "    </tr>\n",
              "    <tr>\n",
              "      <th>2</th>\n",
              "      <td>2022-01-03</td>\n",
              "      <td>610</td>\n",
              "    </tr>\n",
              "    <tr>\n",
              "      <th>3</th>\n",
              "      <td>2022-01-04</td>\n",
              "      <td>195</td>\n",
              "    </tr>\n",
              "    <tr>\n",
              "      <th>4</th>\n",
              "      <td>2022-01-05</td>\n",
              "      <td>900</td>\n",
              "    </tr>\n",
              "    <tr>\n",
              "      <th>...</th>\n",
              "      <td>...</td>\n",
              "      <td>...</td>\n",
              "    </tr>\n",
              "    <tr>\n",
              "      <th>337</th>\n",
              "      <td>2022-12-27</td>\n",
              "      <td>760</td>\n",
              "    </tr>\n",
              "    <tr>\n",
              "      <th>338</th>\n",
              "      <td>2022-12-28</td>\n",
              "      <td>400</td>\n",
              "    </tr>\n",
              "    <tr>\n",
              "      <th>339</th>\n",
              "      <td>2022-12-29</td>\n",
              "      <td>1405</td>\n",
              "    </tr>\n",
              "    <tr>\n",
              "      <th>340</th>\n",
              "      <td>2022-12-30</td>\n",
              "      <td>220</td>\n",
              "    </tr>\n",
              "    <tr>\n",
              "      <th>341</th>\n",
              "      <td>2022-12-31</td>\n",
              "      <td>480</td>\n",
              "    </tr>\n",
              "  </tbody>\n",
              "</table>\n",
              "<p>342 rows × 2 columns</p>\n",
              "</div>"
            ],
            "text/plain": [
              "      sale_date  total_sales\n",
              "0    2022-01-01          525\n",
              "1    2022-01-02          125\n",
              "2    2022-01-03          610\n",
              "3    2022-01-04          195\n",
              "4    2022-01-05          900\n",
              "..          ...          ...\n",
              "337  2022-12-27          760\n",
              "338  2022-12-28          400\n",
              "339  2022-12-29         1405\n",
              "340  2022-12-30          220\n",
              "341  2022-12-31          480\n",
              "\n",
              "[342 rows x 2 columns]"
            ]
          },
          "execution_count": 45,
          "metadata": {},
          "output_type": "execute_result"
        }
      ],
      "source": [
        "df"
      ]
    },
    {
      "cell_type": "code",
      "execution_count": 46,
      "metadata": {},
      "outputs": [
        {
          "name": "stdout",
          "output_type": "stream",
          "text": [
            "<class 'pandas.core.frame.DataFrame'>\n",
            "RangeIndex: 342 entries, 0 to 341\n",
            "Data columns (total 2 columns):\n",
            " #   Column       Non-Null Count  Dtype \n",
            "---  ------       --------------  ----- \n",
            " 0   sale_date    342 non-null    object\n",
            " 1   total_sales  342 non-null    int64 \n",
            "dtypes: int64(1), object(1)\n",
            "memory usage: 5.5+ KB\n"
          ]
        }
      ],
      "source": [
        "df.info()"
      ]
    },
    {
      "cell_type": "code",
      "execution_count": 70,
      "metadata": {},
      "outputs": [],
      "source": [
        "#convertir la colonne 'sale_date' en Datetime\n",
        "df['sale_date']=pd.to_datetime(df['sale_date'])"
      ]
    },
    {
      "cell_type": "code",
      "execution_count": 71,
      "metadata": {},
      "outputs": [],
      "source": [
        "import plotly.graph_objects as go"
      ]
    },
    {
      "cell_type": "code",
      "execution_count": 72,
      "metadata": {},
      "outputs": [
        {
          "name": "stdout",
          "output_type": "stream",
          "text": [
            "Requirement already satisfied: nbformat in c:\\users\\debbi\\anaconda3\\envs\\spark\\lib\\site-packages (5.9.2)\n",
            "Requirement already satisfied: fastjsonschema in c:\\users\\debbi\\anaconda3\\envs\\spark\\lib\\site-packages (from nbformat) (2.19.1)\n",
            "Requirement already satisfied: jsonschema>=2.6 in c:\\users\\debbi\\anaconda3\\envs\\spark\\lib\\site-packages (from nbformat) (4.21.1)\n",
            "Requirement already satisfied: jupyter-core in c:\\users\\debbi\\anaconda3\\envs\\spark\\lib\\site-packages (from nbformat) (4.12.0)\n",
            "Requirement already satisfied: traitlets>=5.1 in c:\\users\\debbi\\anaconda3\\envs\\spark\\lib\\site-packages (from nbformat) (5.14.1)\n",
            "Requirement already satisfied: attrs>=22.2.0 in c:\\users\\debbi\\anaconda3\\envs\\spark\\lib\\site-packages (from jsonschema>=2.6->nbformat) (23.2.0)\n",
            "Requirement already satisfied: jsonschema-specifications>=2023.03.6 in c:\\users\\debbi\\anaconda3\\envs\\spark\\lib\\site-packages (from jsonschema>=2.6->nbformat) (2023.12.1)\n",
            "Requirement already satisfied: referencing>=0.28.4 in c:\\users\\debbi\\anaconda3\\envs\\spark\\lib\\site-packages (from jsonschema>=2.6->nbformat) (0.33.0)\n",
            "Requirement already satisfied: rpds-py>=0.7.1 in c:\\users\\debbi\\anaconda3\\envs\\spark\\lib\\site-packages (from jsonschema>=2.6->nbformat) (0.17.1)\n",
            "Requirement already satisfied: pywin32>=1.0 in c:\\users\\debbi\\anaconda3\\envs\\spark\\lib\\site-packages (from jupyter-core->nbformat) (227)\n"
          ]
        }
      ],
      "source": [
        "!pip install --upgrade nbformat\n"
      ]
    },
    {
      "cell_type": "code",
      "execution_count": 73,
      "metadata": {},
      "outputs": [
        {
          "ename": "ValueError",
          "evalue": "Mime type rendering requires nbformat>=4.2.0 but it is not installed",
          "output_type": "error",
          "traceback": [
            "\u001b[1;31m---------------------------------------------------------------------------\u001b[0m",
            "\u001b[1;31mValueError\u001b[0m                                Traceback (most recent call last)",
            "File \u001b[1;32mc:\\Users\\debbi\\anaconda3\\envs\\spark\\lib\\site-packages\\IPython\\core\\formatters.py:922\u001b[0m, in \u001b[0;36mIPythonDisplayFormatter.__call__\u001b[1;34m(self, obj)\u001b[0m\n\u001b[0;32m    920\u001b[0m method \u001b[38;5;241m=\u001b[39m get_real_method(obj, \u001b[38;5;28mself\u001b[39m\u001b[38;5;241m.\u001b[39mprint_method)\n\u001b[0;32m    921\u001b[0m \u001b[38;5;28;01mif\u001b[39;00m method \u001b[38;5;129;01mis\u001b[39;00m \u001b[38;5;129;01mnot\u001b[39;00m \u001b[38;5;28;01mNone\u001b[39;00m:\n\u001b[1;32m--> 922\u001b[0m     \u001b[43mmethod\u001b[49m\u001b[43m(\u001b[49m\u001b[43m)\u001b[49m\n\u001b[0;32m    923\u001b[0m     \u001b[38;5;28;01mreturn\u001b[39;00m \u001b[38;5;28;01mTrue\u001b[39;00m\n",
            "File \u001b[1;32mc:\\Users\\debbi\\anaconda3\\envs\\spark\\lib\\site-packages\\plotly\\basedatatypes.py:832\u001b[0m, in \u001b[0;36mBaseFigure._ipython_display_\u001b[1;34m(self)\u001b[0m\n\u001b[0;32m    829\u001b[0m \u001b[38;5;28;01mimport\u001b[39;00m \u001b[38;5;21;01mplotly\u001b[39;00m\u001b[38;5;21;01m.\u001b[39;00m\u001b[38;5;21;01mio\u001b[39;00m \u001b[38;5;28;01mas\u001b[39;00m \u001b[38;5;21;01mpio\u001b[39;00m\n\u001b[0;32m    831\u001b[0m \u001b[38;5;28;01mif\u001b[39;00m pio\u001b[38;5;241m.\u001b[39mrenderers\u001b[38;5;241m.\u001b[39mrender_on_display \u001b[38;5;129;01mand\u001b[39;00m pio\u001b[38;5;241m.\u001b[39mrenderers\u001b[38;5;241m.\u001b[39mdefault:\n\u001b[1;32m--> 832\u001b[0m     \u001b[43mpio\u001b[49m\u001b[38;5;241;43m.\u001b[39;49m\u001b[43mshow\u001b[49m\u001b[43m(\u001b[49m\u001b[38;5;28;43mself\u001b[39;49m\u001b[43m)\u001b[49m\n\u001b[0;32m    833\u001b[0m \u001b[38;5;28;01melse\u001b[39;00m:\n\u001b[0;32m    834\u001b[0m     \u001b[38;5;28mprint\u001b[39m(\u001b[38;5;28mrepr\u001b[39m(\u001b[38;5;28mself\u001b[39m))\n",
            "File \u001b[1;32mc:\\Users\\debbi\\anaconda3\\envs\\spark\\lib\\site-packages\\plotly\\io\\_renderers.py:394\u001b[0m, in \u001b[0;36mshow\u001b[1;34m(fig, renderer, validate, **kwargs)\u001b[0m\n\u001b[0;32m    389\u001b[0m         \u001b[38;5;28;01mraise\u001b[39;00m \u001b[38;5;167;01mValueError\u001b[39;00m(\n\u001b[0;32m    390\u001b[0m             \u001b[38;5;124m\"\u001b[39m\u001b[38;5;124mMime type rendering requires ipython but it is not installed\u001b[39m\u001b[38;5;124m\"\u001b[39m\n\u001b[0;32m    391\u001b[0m         )\n\u001b[0;32m    393\u001b[0m     \u001b[38;5;28;01mif\u001b[39;00m \u001b[38;5;129;01mnot\u001b[39;00m nbformat \u001b[38;5;129;01mor\u001b[39;00m Version(nbformat\u001b[38;5;241m.\u001b[39m__version__) \u001b[38;5;241m<\u001b[39m Version(\u001b[38;5;124m\"\u001b[39m\u001b[38;5;124m4.2.0\u001b[39m\u001b[38;5;124m\"\u001b[39m):\n\u001b[1;32m--> 394\u001b[0m         \u001b[38;5;28;01mraise\u001b[39;00m \u001b[38;5;167;01mValueError\u001b[39;00m(\n\u001b[0;32m    395\u001b[0m             \u001b[38;5;124m\"\u001b[39m\u001b[38;5;124mMime type rendering requires nbformat>=4.2.0 but it is not installed\u001b[39m\u001b[38;5;124m\"\u001b[39m\n\u001b[0;32m    396\u001b[0m         )\n\u001b[0;32m    398\u001b[0m     ipython_display\u001b[38;5;241m.\u001b[39mdisplay(bundle, raw\u001b[38;5;241m=\u001b[39m\u001b[38;5;28;01mTrue\u001b[39;00m)\n\u001b[0;32m    400\u001b[0m \u001b[38;5;66;03m# external renderers\u001b[39;00m\n",
            "\u001b[1;31mValueError\u001b[0m: Mime type rendering requires nbformat>=4.2.0 but it is not installed"
          ]
        },
        {
          "data": {
            "application/vnd.plotly.v1+json": {
              "config": {
                "plotlyServerURL": "https://plot.ly"
              },
              "data": [
                {
                  "mode": "lines+markers",
                  "type": "scatter",
                  "x": [
                    "2022-01-01T00:00:00",
                    "2022-01-02T00:00:00",
                    "2022-01-03T00:00:00",
                    "2022-01-04T00:00:00",
                    "2022-01-05T00:00:00",
                    "2022-01-06T00:00:00",
                    "2022-01-07T00:00:00",
                    "2022-01-08T00:00:00",
                    "2022-01-09T00:00:00",
                    "2022-01-10T00:00:00",
                    "2022-01-11T00:00:00",
                    "2022-01-12T00:00:00",
                    "2022-01-13T00:00:00",
                    "2022-01-14T00:00:00",
                    "2022-01-15T00:00:00",
                    "2022-01-16T00:00:00",
                    "2022-01-17T00:00:00",
                    "2022-01-18T00:00:00",
                    "2022-01-19T00:00:00",
                    "2022-01-20T00:00:00",
                    "2022-01-21T00:00:00",
                    "2022-01-22T00:00:00",
                    "2022-01-23T00:00:00",
                    "2022-01-24T00:00:00",
                    "2022-01-25T00:00:00",
                    "2022-01-26T00:00:00",
                    "2022-01-27T00:00:00",
                    "2022-01-28T00:00:00",
                    "2022-01-30T00:00:00",
                    "2022-01-31T00:00:00",
                    "2022-02-01T00:00:00",
                    "2022-02-02T00:00:00",
                    "2022-02-03T00:00:00",
                    "2022-02-04T00:00:00",
                    "2022-02-05T00:00:00",
                    "2022-02-06T00:00:00",
                    "2022-02-07T00:00:00",
                    "2022-02-08T00:00:00",
                    "2022-02-09T00:00:00",
                    "2022-02-10T00:00:00",
                    "2022-02-11T00:00:00",
                    "2022-02-12T00:00:00",
                    "2022-02-13T00:00:00",
                    "2022-02-14T00:00:00",
                    "2022-02-15T00:00:00",
                    "2022-02-16T00:00:00",
                    "2022-02-17T00:00:00",
                    "2022-02-18T00:00:00",
                    "2022-02-19T00:00:00",
                    "2022-02-20T00:00:00",
                    "2022-02-21T00:00:00",
                    "2022-02-22T00:00:00",
                    "2022-02-23T00:00:00",
                    "2022-02-24T00:00:00",
                    "2022-02-25T00:00:00",
                    "2022-02-26T00:00:00",
                    "2022-02-27T00:00:00",
                    "2022-02-28T00:00:00",
                    "2022-03-01T00:00:00",
                    "2022-03-02T00:00:00",
                    "2022-03-03T00:00:00",
                    "2022-03-04T00:00:00",
                    "2022-03-05T00:00:00",
                    "2022-03-06T00:00:00",
                    "2022-03-07T00:00:00",
                    "2022-03-08T00:00:00",
                    "2022-03-09T00:00:00",
                    "2022-03-10T00:00:00",
                    "2022-03-11T00:00:00",
                    "2022-03-12T00:00:00",
                    "2022-03-14T00:00:00",
                    "2022-03-15T00:00:00",
                    "2022-03-16T00:00:00",
                    "2022-03-17T00:00:00",
                    "2022-03-19T00:00:00",
                    "2022-03-20T00:00:00",
                    "2022-03-21T00:00:00",
                    "2022-03-22T00:00:00",
                    "2022-03-23T00:00:00",
                    "2022-03-24T00:00:00",
                    "2022-03-25T00:00:00",
                    "2022-03-26T00:00:00",
                    "2022-03-27T00:00:00",
                    "2022-03-28T00:00:00",
                    "2022-03-29T00:00:00",
                    "2022-03-30T00:00:00",
                    "2022-03-31T00:00:00",
                    "2022-04-01T00:00:00",
                    "2022-04-02T00:00:00",
                    "2022-04-03T00:00:00",
                    "2022-04-04T00:00:00",
                    "2022-04-05T00:00:00",
                    "2022-04-06T00:00:00",
                    "2022-04-08T00:00:00",
                    "2022-04-09T00:00:00",
                    "2022-04-10T00:00:00",
                    "2022-04-11T00:00:00",
                    "2022-04-13T00:00:00",
                    "2022-04-14T00:00:00",
                    "2022-04-16T00:00:00",
                    "2022-04-17T00:00:00",
                    "2022-04-18T00:00:00",
                    "2022-04-19T00:00:00",
                    "2022-04-20T00:00:00",
                    "2022-04-21T00:00:00",
                    "2022-04-22T00:00:00",
                    "2022-04-23T00:00:00",
                    "2022-04-25T00:00:00",
                    "2022-04-26T00:00:00",
                    "2022-04-27T00:00:00",
                    "2022-04-28T00:00:00",
                    "2022-04-29T00:00:00",
                    "2022-04-30T00:00:00",
                    "2022-05-02T00:00:00",
                    "2022-05-03T00:00:00",
                    "2022-05-05T00:00:00",
                    "2022-05-06T00:00:00",
                    "2022-05-07T00:00:00",
                    "2022-05-08T00:00:00",
                    "2022-05-09T00:00:00",
                    "2022-05-10T00:00:00",
                    "2022-05-11T00:00:00",
                    "2022-05-12T00:00:00",
                    "2022-05-13T00:00:00",
                    "2022-05-14T00:00:00",
                    "2022-05-15T00:00:00",
                    "2022-05-16T00:00:00",
                    "2022-05-17T00:00:00",
                    "2022-05-18T00:00:00",
                    "2022-05-19T00:00:00",
                    "2022-05-20T00:00:00",
                    "2022-05-21T00:00:00",
                    "2022-05-22T00:00:00",
                    "2022-05-23T00:00:00",
                    "2022-05-24T00:00:00",
                    "2022-05-25T00:00:00",
                    "2022-05-26T00:00:00",
                    "2022-05-27T00:00:00",
                    "2022-05-28T00:00:00",
                    "2022-05-29T00:00:00",
                    "2022-05-30T00:00:00",
                    "2022-05-31T00:00:00",
                    "2022-06-01T00:00:00",
                    "2022-06-03T00:00:00",
                    "2022-06-04T00:00:00",
                    "2022-06-05T00:00:00",
                    "2022-06-06T00:00:00",
                    "2022-06-07T00:00:00",
                    "2022-06-09T00:00:00",
                    "2022-06-10T00:00:00",
                    "2022-06-11T00:00:00",
                    "2022-06-12T00:00:00",
                    "2022-06-13T00:00:00",
                    "2022-06-14T00:00:00",
                    "2022-06-15T00:00:00",
                    "2022-06-16T00:00:00",
                    "2022-06-17T00:00:00",
                    "2022-06-18T00:00:00",
                    "2022-06-19T00:00:00",
                    "2022-06-20T00:00:00",
                    "2022-06-21T00:00:00",
                    "2022-06-22T00:00:00",
                    "2022-06-23T00:00:00",
                    "2022-06-24T00:00:00",
                    "2022-06-25T00:00:00",
                    "2022-06-26T00:00:00",
                    "2022-06-27T00:00:00",
                    "2022-06-28T00:00:00",
                    "2022-06-29T00:00:00",
                    "2022-06-30T00:00:00",
                    "2022-07-01T00:00:00",
                    "2022-07-02T00:00:00",
                    "2022-07-03T00:00:00",
                    "2022-07-04T00:00:00",
                    "2022-07-05T00:00:00",
                    "2022-07-06T00:00:00",
                    "2022-07-07T00:00:00",
                    "2022-07-08T00:00:00",
                    "2022-07-09T00:00:00",
                    "2022-07-10T00:00:00",
                    "2022-07-11T00:00:00",
                    "2022-07-12T00:00:00",
                    "2022-07-13T00:00:00",
                    "2022-07-14T00:00:00",
                    "2022-07-15T00:00:00",
                    "2022-07-16T00:00:00",
                    "2022-07-17T00:00:00",
                    "2022-07-18T00:00:00",
                    "2022-07-19T00:00:00",
                    "2022-07-20T00:00:00",
                    "2022-07-21T00:00:00",
                    "2022-07-22T00:00:00",
                    "2022-07-23T00:00:00",
                    "2022-07-24T00:00:00",
                    "2022-07-25T00:00:00",
                    "2022-07-26T00:00:00",
                    "2022-07-27T00:00:00",
                    "2022-07-28T00:00:00",
                    "2022-07-29T00:00:00",
                    "2022-07-30T00:00:00",
                    "2022-07-31T00:00:00",
                    "2022-08-01T00:00:00",
                    "2022-08-02T00:00:00",
                    "2022-08-03T00:00:00",
                    "2022-08-04T00:00:00",
                    "2022-08-05T00:00:00",
                    "2022-08-06T00:00:00",
                    "2022-08-07T00:00:00",
                    "2022-08-08T00:00:00",
                    "2022-08-10T00:00:00",
                    "2022-08-11T00:00:00",
                    "2022-08-12T00:00:00",
                    "2022-08-13T00:00:00",
                    "2022-08-14T00:00:00",
                    "2022-08-15T00:00:00",
                    "2022-08-16T00:00:00",
                    "2022-08-17T00:00:00",
                    "2022-08-18T00:00:00",
                    "2022-08-19T00:00:00",
                    "2022-08-20T00:00:00",
                    "2022-08-21T00:00:00",
                    "2022-08-22T00:00:00",
                    "2022-08-23T00:00:00",
                    "2022-08-24T00:00:00",
                    "2022-08-25T00:00:00",
                    "2022-08-26T00:00:00",
                    "2022-08-27T00:00:00",
                    "2022-08-28T00:00:00",
                    "2022-08-29T00:00:00",
                    "2022-08-30T00:00:00",
                    "2022-08-31T00:00:00",
                    "2022-09-01T00:00:00",
                    "2022-09-02T00:00:00",
                    "2022-09-03T00:00:00",
                    "2022-09-04T00:00:00",
                    "2022-09-05T00:00:00",
                    "2022-09-06T00:00:00",
                    "2022-09-07T00:00:00",
                    "2022-09-08T00:00:00",
                    "2022-09-09T00:00:00",
                    "2022-09-10T00:00:00",
                    "2022-09-11T00:00:00",
                    "2022-09-12T00:00:00",
                    "2022-09-13T00:00:00",
                    "2022-09-14T00:00:00",
                    "2022-09-15T00:00:00",
                    "2022-09-16T00:00:00",
                    "2022-09-17T00:00:00",
                    "2022-09-19T00:00:00",
                    "2022-09-21T00:00:00",
                    "2022-09-23T00:00:00",
                    "2022-09-24T00:00:00",
                    "2022-09-25T00:00:00",
                    "2022-09-26T00:00:00",
                    "2022-09-28T00:00:00",
                    "2022-09-30T00:00:00",
                    "2022-10-01T00:00:00",
                    "2022-10-02T00:00:00",
                    "2022-10-03T00:00:00",
                    "2022-10-04T00:00:00",
                    "2022-10-05T00:00:00",
                    "2022-10-06T00:00:00",
                    "2022-10-07T00:00:00",
                    "2022-10-08T00:00:00",
                    "2022-10-09T00:00:00",
                    "2022-10-10T00:00:00",
                    "2022-10-11T00:00:00",
                    "2022-10-12T00:00:00",
                    "2022-10-13T00:00:00",
                    "2022-10-14T00:00:00",
                    "2022-10-16T00:00:00",
                    "2022-10-17T00:00:00",
                    "2022-10-18T00:00:00",
                    "2022-10-19T00:00:00",
                    "2022-10-20T00:00:00",
                    "2022-10-21T00:00:00",
                    "2022-10-22T00:00:00",
                    "2022-10-23T00:00:00",
                    "2022-10-24T00:00:00",
                    "2022-10-25T00:00:00",
                    "2022-10-26T00:00:00",
                    "2022-10-28T00:00:00",
                    "2022-10-29T00:00:00",
                    "2022-10-30T00:00:00",
                    "2022-10-31T00:00:00",
                    "2022-11-01T00:00:00",
                    "2022-11-03T00:00:00",
                    "2022-11-04T00:00:00",
                    "2022-11-05T00:00:00",
                    "2022-11-06T00:00:00",
                    "2022-11-07T00:00:00",
                    "2022-11-09T00:00:00",
                    "2022-11-10T00:00:00",
                    "2022-11-11T00:00:00",
                    "2022-11-12T00:00:00",
                    "2022-11-13T00:00:00",
                    "2022-11-14T00:00:00",
                    "2022-11-15T00:00:00",
                    "2022-11-16T00:00:00",
                    "2022-11-17T00:00:00",
                    "2022-11-18T00:00:00",
                    "2022-11-19T00:00:00",
                    "2022-11-20T00:00:00",
                    "2022-11-21T00:00:00",
                    "2022-11-22T00:00:00",
                    "2022-11-23T00:00:00",
                    "2022-11-24T00:00:00",
                    "2022-11-25T00:00:00",
                    "2022-11-26T00:00:00",
                    "2022-11-27T00:00:00",
                    "2022-11-28T00:00:00",
                    "2022-11-29T00:00:00",
                    "2022-11-30T00:00:00",
                    "2022-12-01T00:00:00",
                    "2022-12-02T00:00:00",
                    "2022-12-03T00:00:00",
                    "2022-12-04T00:00:00",
                    "2022-12-05T00:00:00",
                    "2022-12-06T00:00:00",
                    "2022-12-07T00:00:00",
                    "2022-12-08T00:00:00",
                    "2022-12-09T00:00:00",
                    "2022-12-11T00:00:00",
                    "2022-12-12T00:00:00",
                    "2022-12-13T00:00:00",
                    "2022-12-14T00:00:00",
                    "2022-12-15T00:00:00",
                    "2022-12-16T00:00:00",
                    "2022-12-17T00:00:00",
                    "2022-12-18T00:00:00",
                    "2022-12-19T00:00:00",
                    "2022-12-21T00:00:00",
                    "2022-12-22T00:00:00",
                    "2022-12-23T00:00:00",
                    "2022-12-24T00:00:00",
                    "2022-12-25T00:00:00",
                    "2022-12-26T00:00:00",
                    "2022-12-27T00:00:00",
                    "2022-12-28T00:00:00",
                    "2022-12-29T00:00:00",
                    "2022-12-30T00:00:00",
                    "2022-12-31T00:00:00"
                  ],
                  "y": [
                    525,
                    125,
                    610,
                    195,
                    900,
                    910,
                    920,
                    360,
                    1140,
                    1340,
                    880,
                    1405,
                    180,
                    700,
                    1710,
                    1320,
                    490,
                    385,
                    1520,
                    345,
                    120,
                    485,
                    640,
                    195,
                    240,
                    525,
                    675,
                    195,
                    820,
                    375,
                    2005,
                    200,
                    430,
                    955,
                    2040,
                    2050,
                    1270,
                    1015,
                    580,
                    960,
                    1010,
                    1520,
                    460,
                    1000,
                    1420,
                    655,
                    200,
                    150,
                    550,
                    50,
                    325,
                    540,
                    375,
                    810,
                    565,
                    200,
                    420,
                    705,
                    780,
                    80,
                    1850,
                    475,
                    430,
                    715,
                    1805,
                    420,
                    250,
                    600,
                    775,
                    880,
                    480,
                    695,
                    1625,
                    765,
                    100,
                    810,
                    1315,
                    710,
                    675,
                    620,
                    1360,
                    1140,
                    825,
                    770,
                    150,
                    1120,
                    930,
                    370,
                    2115,
                    720,
                    1210,
                    750,
                    1280,
                    275,
                    1045,
                    275,
                    400,
                    600,
                    175,
                    320,
                    175,
                    705,
                    590,
                    1280,
                    360,
                    2110,
                    1930,
                    750,
                    500,
                    1000,
                    240,
                    125,
                    160,
                    1150,
                    875,
                    1535,
                    1125,
                    1095,
                    235,
                    400,
                    100,
                    160,
                    550,
                    80,
                    2010,
                    510,
                    660,
                    1835,
                    1025,
                    1280,
                    790,
                    280,
                    570,
                    50,
                    2540,
                    695,
                    720,
                    375,
                    425,
                    1200,
                    390,
                    750,
                    450,
                    940,
                    1125,
                    1495,
                    985,
                    1485,
                    1340,
                    945,
                    240,
                    725,
                    1405,
                    740,
                    1165,
                    300,
                    460,
                    360,
                    1995,
                    460,
                    1260,
                    750,
                    1950,
                    580,
                    50,
                    1120,
                    225,
                    825,
                    625,
                    940,
                    225,
                    970,
                    410,
                    550,
                    1375,
                    1185,
                    260,
                    675,
                    1215,
                    525,
                    525,
                    175,
                    710,
                    515,
                    1610,
                    685,
                    740,
                    1385,
                    75,
                    625,
                    580,
                    1110,
                    890,
                    995,
                    800,
                    750,
                    265,
                    800,
                    205,
                    50,
                    1220,
                    200,
                    1130,
                    1420,
                    1030,
                    1050,
                    460,
                    660,
                    545,
                    1425,
                    995,
                    1750,
                    865,
                    1035,
                    50,
                    680,
                    950,
                    1150,
                    195,
                    1035,
                    360,
                    675,
                    600,
                    1455,
                    925,
                    905,
                    1575,
                    270,
                    25,
                    460,
                    700,
                    350,
                    745,
                    690,
                    500,
                    570,
                    1220,
                    300,
                    675,
                    420,
                    615,
                    950,
                    985,
                    945,
                    450,
                    795,
                    735,
                    240,
                    930,
                    655,
                    1540,
                    360,
                    975,
                    1305,
                    450,
                    2230,
                    910,
                    1710,
                    600,
                    1185,
                    1075,
                    1055,
                    1100,
                    660,
                    785,
                    160,
                    1205,
                    600,
                    455,
                    350,
                    1750,
                    1000,
                    600,
                    1065,
                    250,
                    650,
                    1405,
                    1180,
                    530,
                    420,
                    600,
                    1400,
                    550,
                    1595,
                    280,
                    160,
                    970,
                    1310,
                    800,
                    750,
                    1290,
                    300,
                    360,
                    155,
                    480,
                    470,
                    1275,
                    750,
                    330,
                    400,
                    1100,
                    1890,
                    725,
                    780,
                    360,
                    75,
                    530,
                    940,
                    850,
                    920,
                    1880,
                    740,
                    2155,
                    1660,
                    750,
                    850,
                    1360,
                    1020,
                    225,
                    870,
                    1230,
                    850,
                    1165,
                    375,
                    400,
                    280,
                    1890,
                    475,
                    595,
                    325,
                    920,
                    1190,
                    540,
                    300,
                    800,
                    550,
                    1750,
                    760,
                    400,
                    1405,
                    220,
                    480
                  ]
                }
              ],
              "layout": {
                "template": {
                  "data": {
                    "bar": [
                      {
                        "error_x": {
                          "color": "#2a3f5f"
                        },
                        "error_y": {
                          "color": "#2a3f5f"
                        },
                        "marker": {
                          "line": {
                            "color": "#E5ECF6",
                            "width": 0.5
                          },
                          "pattern": {
                            "fillmode": "overlay",
                            "size": 10,
                            "solidity": 0.2
                          }
                        },
                        "type": "bar"
                      }
                    ],
                    "barpolar": [
                      {
                        "marker": {
                          "line": {
                            "color": "#E5ECF6",
                            "width": 0.5
                          },
                          "pattern": {
                            "fillmode": "overlay",
                            "size": 10,
                            "solidity": 0.2
                          }
                        },
                        "type": "barpolar"
                      }
                    ],
                    "carpet": [
                      {
                        "aaxis": {
                          "endlinecolor": "#2a3f5f",
                          "gridcolor": "white",
                          "linecolor": "white",
                          "minorgridcolor": "white",
                          "startlinecolor": "#2a3f5f"
                        },
                        "baxis": {
                          "endlinecolor": "#2a3f5f",
                          "gridcolor": "white",
                          "linecolor": "white",
                          "minorgridcolor": "white",
                          "startlinecolor": "#2a3f5f"
                        },
                        "type": "carpet"
                      }
                    ],
                    "choropleth": [
                      {
                        "colorbar": {
                          "outlinewidth": 0,
                          "ticks": ""
                        },
                        "type": "choropleth"
                      }
                    ],
                    "contour": [
                      {
                        "colorbar": {
                          "outlinewidth": 0,
                          "ticks": ""
                        },
                        "colorscale": [
                          [
                            0,
                            "#0d0887"
                          ],
                          [
                            0.1111111111111111,
                            "#46039f"
                          ],
                          [
                            0.2222222222222222,
                            "#7201a8"
                          ],
                          [
                            0.3333333333333333,
                            "#9c179e"
                          ],
                          [
                            0.4444444444444444,
                            "#bd3786"
                          ],
                          [
                            0.5555555555555556,
                            "#d8576b"
                          ],
                          [
                            0.6666666666666666,
                            "#ed7953"
                          ],
                          [
                            0.7777777777777778,
                            "#fb9f3a"
                          ],
                          [
                            0.8888888888888888,
                            "#fdca26"
                          ],
                          [
                            1,
                            "#f0f921"
                          ]
                        ],
                        "type": "contour"
                      }
                    ],
                    "contourcarpet": [
                      {
                        "colorbar": {
                          "outlinewidth": 0,
                          "ticks": ""
                        },
                        "type": "contourcarpet"
                      }
                    ],
                    "heatmap": [
                      {
                        "colorbar": {
                          "outlinewidth": 0,
                          "ticks": ""
                        },
                        "colorscale": [
                          [
                            0,
                            "#0d0887"
                          ],
                          [
                            0.1111111111111111,
                            "#46039f"
                          ],
                          [
                            0.2222222222222222,
                            "#7201a8"
                          ],
                          [
                            0.3333333333333333,
                            "#9c179e"
                          ],
                          [
                            0.4444444444444444,
                            "#bd3786"
                          ],
                          [
                            0.5555555555555556,
                            "#d8576b"
                          ],
                          [
                            0.6666666666666666,
                            "#ed7953"
                          ],
                          [
                            0.7777777777777778,
                            "#fb9f3a"
                          ],
                          [
                            0.8888888888888888,
                            "#fdca26"
                          ],
                          [
                            1,
                            "#f0f921"
                          ]
                        ],
                        "type": "heatmap"
                      }
                    ],
                    "heatmapgl": [
                      {
                        "colorbar": {
                          "outlinewidth": 0,
                          "ticks": ""
                        },
                        "colorscale": [
                          [
                            0,
                            "#0d0887"
                          ],
                          [
                            0.1111111111111111,
                            "#46039f"
                          ],
                          [
                            0.2222222222222222,
                            "#7201a8"
                          ],
                          [
                            0.3333333333333333,
                            "#9c179e"
                          ],
                          [
                            0.4444444444444444,
                            "#bd3786"
                          ],
                          [
                            0.5555555555555556,
                            "#d8576b"
                          ],
                          [
                            0.6666666666666666,
                            "#ed7953"
                          ],
                          [
                            0.7777777777777778,
                            "#fb9f3a"
                          ],
                          [
                            0.8888888888888888,
                            "#fdca26"
                          ],
                          [
                            1,
                            "#f0f921"
                          ]
                        ],
                        "type": "heatmapgl"
                      }
                    ],
                    "histogram": [
                      {
                        "marker": {
                          "pattern": {
                            "fillmode": "overlay",
                            "size": 10,
                            "solidity": 0.2
                          }
                        },
                        "type": "histogram"
                      }
                    ],
                    "histogram2d": [
                      {
                        "colorbar": {
                          "outlinewidth": 0,
                          "ticks": ""
                        },
                        "colorscale": [
                          [
                            0,
                            "#0d0887"
                          ],
                          [
                            0.1111111111111111,
                            "#46039f"
                          ],
                          [
                            0.2222222222222222,
                            "#7201a8"
                          ],
                          [
                            0.3333333333333333,
                            "#9c179e"
                          ],
                          [
                            0.4444444444444444,
                            "#bd3786"
                          ],
                          [
                            0.5555555555555556,
                            "#d8576b"
                          ],
                          [
                            0.6666666666666666,
                            "#ed7953"
                          ],
                          [
                            0.7777777777777778,
                            "#fb9f3a"
                          ],
                          [
                            0.8888888888888888,
                            "#fdca26"
                          ],
                          [
                            1,
                            "#f0f921"
                          ]
                        ],
                        "type": "histogram2d"
                      }
                    ],
                    "histogram2dcontour": [
                      {
                        "colorbar": {
                          "outlinewidth": 0,
                          "ticks": ""
                        },
                        "colorscale": [
                          [
                            0,
                            "#0d0887"
                          ],
                          [
                            0.1111111111111111,
                            "#46039f"
                          ],
                          [
                            0.2222222222222222,
                            "#7201a8"
                          ],
                          [
                            0.3333333333333333,
                            "#9c179e"
                          ],
                          [
                            0.4444444444444444,
                            "#bd3786"
                          ],
                          [
                            0.5555555555555556,
                            "#d8576b"
                          ],
                          [
                            0.6666666666666666,
                            "#ed7953"
                          ],
                          [
                            0.7777777777777778,
                            "#fb9f3a"
                          ],
                          [
                            0.8888888888888888,
                            "#fdca26"
                          ],
                          [
                            1,
                            "#f0f921"
                          ]
                        ],
                        "type": "histogram2dcontour"
                      }
                    ],
                    "mesh3d": [
                      {
                        "colorbar": {
                          "outlinewidth": 0,
                          "ticks": ""
                        },
                        "type": "mesh3d"
                      }
                    ],
                    "parcoords": [
                      {
                        "line": {
                          "colorbar": {
                            "outlinewidth": 0,
                            "ticks": ""
                          }
                        },
                        "type": "parcoords"
                      }
                    ],
                    "pie": [
                      {
                        "automargin": true,
                        "type": "pie"
                      }
                    ],
                    "scatter": [
                      {
                        "fillpattern": {
                          "fillmode": "overlay",
                          "size": 10,
                          "solidity": 0.2
                        },
                        "type": "scatter"
                      }
                    ],
                    "scatter3d": [
                      {
                        "line": {
                          "colorbar": {
                            "outlinewidth": 0,
                            "ticks": ""
                          }
                        },
                        "marker": {
                          "colorbar": {
                            "outlinewidth": 0,
                            "ticks": ""
                          }
                        },
                        "type": "scatter3d"
                      }
                    ],
                    "scattercarpet": [
                      {
                        "marker": {
                          "colorbar": {
                            "outlinewidth": 0,
                            "ticks": ""
                          }
                        },
                        "type": "scattercarpet"
                      }
                    ],
                    "scattergeo": [
                      {
                        "marker": {
                          "colorbar": {
                            "outlinewidth": 0,
                            "ticks": ""
                          }
                        },
                        "type": "scattergeo"
                      }
                    ],
                    "scattergl": [
                      {
                        "marker": {
                          "colorbar": {
                            "outlinewidth": 0,
                            "ticks": ""
                          }
                        },
                        "type": "scattergl"
                      }
                    ],
                    "scattermapbox": [
                      {
                        "marker": {
                          "colorbar": {
                            "outlinewidth": 0,
                            "ticks": ""
                          }
                        },
                        "type": "scattermapbox"
                      }
                    ],
                    "scatterpolar": [
                      {
                        "marker": {
                          "colorbar": {
                            "outlinewidth": 0,
                            "ticks": ""
                          }
                        },
                        "type": "scatterpolar"
                      }
                    ],
                    "scatterpolargl": [
                      {
                        "marker": {
                          "colorbar": {
                            "outlinewidth": 0,
                            "ticks": ""
                          }
                        },
                        "type": "scatterpolargl"
                      }
                    ],
                    "scatterternary": [
                      {
                        "marker": {
                          "colorbar": {
                            "outlinewidth": 0,
                            "ticks": ""
                          }
                        },
                        "type": "scatterternary"
                      }
                    ],
                    "surface": [
                      {
                        "colorbar": {
                          "outlinewidth": 0,
                          "ticks": ""
                        },
                        "colorscale": [
                          [
                            0,
                            "#0d0887"
                          ],
                          [
                            0.1111111111111111,
                            "#46039f"
                          ],
                          [
                            0.2222222222222222,
                            "#7201a8"
                          ],
                          [
                            0.3333333333333333,
                            "#9c179e"
                          ],
                          [
                            0.4444444444444444,
                            "#bd3786"
                          ],
                          [
                            0.5555555555555556,
                            "#d8576b"
                          ],
                          [
                            0.6666666666666666,
                            "#ed7953"
                          ],
                          [
                            0.7777777777777778,
                            "#fb9f3a"
                          ],
                          [
                            0.8888888888888888,
                            "#fdca26"
                          ],
                          [
                            1,
                            "#f0f921"
                          ]
                        ],
                        "type": "surface"
                      }
                    ],
                    "table": [
                      {
                        "cells": {
                          "fill": {
                            "color": "#EBF0F8"
                          },
                          "line": {
                            "color": "white"
                          }
                        },
                        "header": {
                          "fill": {
                            "color": "#C8D4E3"
                          },
                          "line": {
                            "color": "white"
                          }
                        },
                        "type": "table"
                      }
                    ]
                  },
                  "layout": {
                    "annotationdefaults": {
                      "arrowcolor": "#2a3f5f",
                      "arrowhead": 0,
                      "arrowwidth": 1
                    },
                    "autotypenumbers": "strict",
                    "coloraxis": {
                      "colorbar": {
                        "outlinewidth": 0,
                        "ticks": ""
                      }
                    },
                    "colorscale": {
                      "diverging": [
                        [
                          0,
                          "#8e0152"
                        ],
                        [
                          0.1,
                          "#c51b7d"
                        ],
                        [
                          0.2,
                          "#de77ae"
                        ],
                        [
                          0.3,
                          "#f1b6da"
                        ],
                        [
                          0.4,
                          "#fde0ef"
                        ],
                        [
                          0.5,
                          "#f7f7f7"
                        ],
                        [
                          0.6,
                          "#e6f5d0"
                        ],
                        [
                          0.7,
                          "#b8e186"
                        ],
                        [
                          0.8,
                          "#7fbc41"
                        ],
                        [
                          0.9,
                          "#4d9221"
                        ],
                        [
                          1,
                          "#276419"
                        ]
                      ],
                      "sequential": [
                        [
                          0,
                          "#0d0887"
                        ],
                        [
                          0.1111111111111111,
                          "#46039f"
                        ],
                        [
                          0.2222222222222222,
                          "#7201a8"
                        ],
                        [
                          0.3333333333333333,
                          "#9c179e"
                        ],
                        [
                          0.4444444444444444,
                          "#bd3786"
                        ],
                        [
                          0.5555555555555556,
                          "#d8576b"
                        ],
                        [
                          0.6666666666666666,
                          "#ed7953"
                        ],
                        [
                          0.7777777777777778,
                          "#fb9f3a"
                        ],
                        [
                          0.8888888888888888,
                          "#fdca26"
                        ],
                        [
                          1,
                          "#f0f921"
                        ]
                      ],
                      "sequentialminus": [
                        [
                          0,
                          "#0d0887"
                        ],
                        [
                          0.1111111111111111,
                          "#46039f"
                        ],
                        [
                          0.2222222222222222,
                          "#7201a8"
                        ],
                        [
                          0.3333333333333333,
                          "#9c179e"
                        ],
                        [
                          0.4444444444444444,
                          "#bd3786"
                        ],
                        [
                          0.5555555555555556,
                          "#d8576b"
                        ],
                        [
                          0.6666666666666666,
                          "#ed7953"
                        ],
                        [
                          0.7777777777777778,
                          "#fb9f3a"
                        ],
                        [
                          0.8888888888888888,
                          "#fdca26"
                        ],
                        [
                          1,
                          "#f0f921"
                        ]
                      ]
                    },
                    "colorway": [
                      "#636efa",
                      "#EF553B",
                      "#00cc96",
                      "#ab63fa",
                      "#FFA15A",
                      "#19d3f3",
                      "#FF6692",
                      "#B6E880",
                      "#FF97FF",
                      "#FECB52"
                    ],
                    "font": {
                      "color": "#2a3f5f"
                    },
                    "geo": {
                      "bgcolor": "white",
                      "lakecolor": "white",
                      "landcolor": "#E5ECF6",
                      "showlakes": true,
                      "showland": true,
                      "subunitcolor": "white"
                    },
                    "hoverlabel": {
                      "align": "left"
                    },
                    "hovermode": "closest",
                    "mapbox": {
                      "style": "light"
                    },
                    "paper_bgcolor": "white",
                    "plot_bgcolor": "#E5ECF6",
                    "polar": {
                      "angularaxis": {
                        "gridcolor": "white",
                        "linecolor": "white",
                        "ticks": ""
                      },
                      "bgcolor": "#E5ECF6",
                      "radialaxis": {
                        "gridcolor": "white",
                        "linecolor": "white",
                        "ticks": ""
                      }
                    },
                    "scene": {
                      "xaxis": {
                        "backgroundcolor": "#E5ECF6",
                        "gridcolor": "white",
                        "gridwidth": 2,
                        "linecolor": "white",
                        "showbackground": true,
                        "ticks": "",
                        "zerolinecolor": "white"
                      },
                      "yaxis": {
                        "backgroundcolor": "#E5ECF6",
                        "gridcolor": "white",
                        "gridwidth": 2,
                        "linecolor": "white",
                        "showbackground": true,
                        "ticks": "",
                        "zerolinecolor": "white"
                      },
                      "zaxis": {
                        "backgroundcolor": "#E5ECF6",
                        "gridcolor": "white",
                        "gridwidth": 2,
                        "linecolor": "white",
                        "showbackground": true,
                        "ticks": "",
                        "zerolinecolor": "white"
                      }
                    },
                    "shapedefaults": {
                      "line": {
                        "color": "#2a3f5f"
                      }
                    },
                    "ternary": {
                      "aaxis": {
                        "gridcolor": "white",
                        "linecolor": "white",
                        "ticks": ""
                      },
                      "baxis": {
                        "gridcolor": "white",
                        "linecolor": "white",
                        "ticks": ""
                      },
                      "bgcolor": "#E5ECF6",
                      "caxis": {
                        "gridcolor": "white",
                        "linecolor": "white",
                        "ticks": ""
                      }
                    },
                    "title": {
                      "x": 0.05
                    },
                    "xaxis": {
                      "automargin": true,
                      "gridcolor": "white",
                      "linecolor": "white",
                      "ticks": "",
                      "title": {
                        "standoff": 15
                      },
                      "zerolinecolor": "white",
                      "zerolinewidth": 2
                    },
                    "yaxis": {
                      "automargin": true,
                      "gridcolor": "white",
                      "linecolor": "white",
                      "ticks": "",
                      "title": {
                        "standoff": 15
                      },
                      "zerolinecolor": "white",
                      "zerolinewidth": 2
                    }
                  }
                },
                "title": {
                  "text": "Dates in Total Sales Values"
                },
                "xaxis": {
                  "title": {
                    "text": "sale_date"
                  }
                },
                "yaxis": {
                  "title": {
                    "text": "total_sales"
                  }
                }
              }
            },
            "text/html": [
              "<div>                        <script type=\"text/javascript\">window.PlotlyConfig = {MathJaxConfig: 'local'};</script>\n",
              "        <script charset=\"utf-8\" src=\"https://cdn.plot.ly/plotly-2.27.0.min.js\"></script>                <div id=\"f49907f0-f9ff-45ca-b91c-c18c6bd8a282\" class=\"plotly-graph-div\" style=\"height:100%; width:100%;\"></div>            <script type=\"text/javascript\">                                    window.PLOTLYENV=window.PLOTLYENV || {};                                    if (document.getElementById(\"f49907f0-f9ff-45ca-b91c-c18c6bd8a282\")) {                    Plotly.newPlot(                        \"f49907f0-f9ff-45ca-b91c-c18c6bd8a282\",                        [{\"mode\":\"lines+markers\",\"x\":[\"2022-01-01T00:00:00\",\"2022-01-02T00:00:00\",\"2022-01-03T00:00:00\",\"2022-01-04T00:00:00\",\"2022-01-05T00:00:00\",\"2022-01-06T00:00:00\",\"2022-01-07T00:00:00\",\"2022-01-08T00:00:00\",\"2022-01-09T00:00:00\",\"2022-01-10T00:00:00\",\"2022-01-11T00:00:00\",\"2022-01-12T00:00:00\",\"2022-01-13T00:00:00\",\"2022-01-14T00:00:00\",\"2022-01-15T00:00:00\",\"2022-01-16T00:00:00\",\"2022-01-17T00:00:00\",\"2022-01-18T00:00:00\",\"2022-01-19T00:00:00\",\"2022-01-20T00:00:00\",\"2022-01-21T00:00:00\",\"2022-01-22T00:00:00\",\"2022-01-23T00:00:00\",\"2022-01-24T00:00:00\",\"2022-01-25T00:00:00\",\"2022-01-26T00:00:00\",\"2022-01-27T00:00:00\",\"2022-01-28T00:00:00\",\"2022-01-30T00:00:00\",\"2022-01-31T00:00:00\",\"2022-02-01T00:00:00\",\"2022-02-02T00:00:00\",\"2022-02-03T00:00:00\",\"2022-02-04T00:00:00\",\"2022-02-05T00:00:00\",\"2022-02-06T00:00:00\",\"2022-02-07T00:00:00\",\"2022-02-08T00:00:00\",\"2022-02-09T00:00:00\",\"2022-02-10T00:00:00\",\"2022-02-11T00:00:00\",\"2022-02-12T00:00:00\",\"2022-02-13T00:00:00\",\"2022-02-14T00:00:00\",\"2022-02-15T00:00:00\",\"2022-02-16T00:00:00\",\"2022-02-17T00:00:00\",\"2022-02-18T00:00:00\",\"2022-02-19T00:00:00\",\"2022-02-20T00:00:00\",\"2022-02-21T00:00:00\",\"2022-02-22T00:00:00\",\"2022-02-23T00:00:00\",\"2022-02-24T00:00:00\",\"2022-02-25T00:00:00\",\"2022-02-26T00:00:00\",\"2022-02-27T00:00:00\",\"2022-02-28T00:00:00\",\"2022-03-01T00:00:00\",\"2022-03-02T00:00:00\",\"2022-03-03T00:00:00\",\"2022-03-04T00:00:00\",\"2022-03-05T00:00:00\",\"2022-03-06T00:00:00\",\"2022-03-07T00:00:00\",\"2022-03-08T00:00:00\",\"2022-03-09T00:00:00\",\"2022-03-10T00:00:00\",\"2022-03-11T00:00:00\",\"2022-03-12T00:00:00\",\"2022-03-14T00:00:00\",\"2022-03-15T00:00:00\",\"2022-03-16T00:00:00\",\"2022-03-17T00:00:00\",\"2022-03-19T00:00:00\",\"2022-03-20T00:00:00\",\"2022-03-21T00:00:00\",\"2022-03-22T00:00:00\",\"2022-03-23T00:00:00\",\"2022-03-24T00:00:00\",\"2022-03-25T00:00:00\",\"2022-03-26T00:00:00\",\"2022-03-27T00:00:00\",\"2022-03-28T00:00:00\",\"2022-03-29T00:00:00\",\"2022-03-30T00:00:00\",\"2022-03-31T00:00:00\",\"2022-04-01T00:00:00\",\"2022-04-02T00:00:00\",\"2022-04-03T00:00:00\",\"2022-04-04T00:00:00\",\"2022-04-05T00:00:00\",\"2022-04-06T00:00:00\",\"2022-04-08T00:00:00\",\"2022-04-09T00:00:00\",\"2022-04-10T00:00:00\",\"2022-04-11T00:00:00\",\"2022-04-13T00:00:00\",\"2022-04-14T00:00:00\",\"2022-04-16T00:00:00\",\"2022-04-17T00:00:00\",\"2022-04-18T00:00:00\",\"2022-04-19T00:00:00\",\"2022-04-20T00:00:00\",\"2022-04-21T00:00:00\",\"2022-04-22T00:00:00\",\"2022-04-23T00:00:00\",\"2022-04-25T00:00:00\",\"2022-04-26T00:00:00\",\"2022-04-27T00:00:00\",\"2022-04-28T00:00:00\",\"2022-04-29T00:00:00\",\"2022-04-30T00:00:00\",\"2022-05-02T00:00:00\",\"2022-05-03T00:00:00\",\"2022-05-05T00:00:00\",\"2022-05-06T00:00:00\",\"2022-05-07T00:00:00\",\"2022-05-08T00:00:00\",\"2022-05-09T00:00:00\",\"2022-05-10T00:00:00\",\"2022-05-11T00:00:00\",\"2022-05-12T00:00:00\",\"2022-05-13T00:00:00\",\"2022-05-14T00:00:00\",\"2022-05-15T00:00:00\",\"2022-05-16T00:00:00\",\"2022-05-17T00:00:00\",\"2022-05-18T00:00:00\",\"2022-05-19T00:00:00\",\"2022-05-20T00:00:00\",\"2022-05-21T00:00:00\",\"2022-05-22T00:00:00\",\"2022-05-23T00:00:00\",\"2022-05-24T00:00:00\",\"2022-05-25T00:00:00\",\"2022-05-26T00:00:00\",\"2022-05-27T00:00:00\",\"2022-05-28T00:00:00\",\"2022-05-29T00:00:00\",\"2022-05-30T00:00:00\",\"2022-05-31T00:00:00\",\"2022-06-01T00:00:00\",\"2022-06-03T00:00:00\",\"2022-06-04T00:00:00\",\"2022-06-05T00:00:00\",\"2022-06-06T00:00:00\",\"2022-06-07T00:00:00\",\"2022-06-09T00:00:00\",\"2022-06-10T00:00:00\",\"2022-06-11T00:00:00\",\"2022-06-12T00:00:00\",\"2022-06-13T00:00:00\",\"2022-06-14T00:00:00\",\"2022-06-15T00:00:00\",\"2022-06-16T00:00:00\",\"2022-06-17T00:00:00\",\"2022-06-18T00:00:00\",\"2022-06-19T00:00:00\",\"2022-06-20T00:00:00\",\"2022-06-21T00:00:00\",\"2022-06-22T00:00:00\",\"2022-06-23T00:00:00\",\"2022-06-24T00:00:00\",\"2022-06-25T00:00:00\",\"2022-06-26T00:00:00\",\"2022-06-27T00:00:00\",\"2022-06-28T00:00:00\",\"2022-06-29T00:00:00\",\"2022-06-30T00:00:00\",\"2022-07-01T00:00:00\",\"2022-07-02T00:00:00\",\"2022-07-03T00:00:00\",\"2022-07-04T00:00:00\",\"2022-07-05T00:00:00\",\"2022-07-06T00:00:00\",\"2022-07-07T00:00:00\",\"2022-07-08T00:00:00\",\"2022-07-09T00:00:00\",\"2022-07-10T00:00:00\",\"2022-07-11T00:00:00\",\"2022-07-12T00:00:00\",\"2022-07-13T00:00:00\",\"2022-07-14T00:00:00\",\"2022-07-15T00:00:00\",\"2022-07-16T00:00:00\",\"2022-07-17T00:00:00\",\"2022-07-18T00:00:00\",\"2022-07-19T00:00:00\",\"2022-07-20T00:00:00\",\"2022-07-21T00:00:00\",\"2022-07-22T00:00:00\",\"2022-07-23T00:00:00\",\"2022-07-24T00:00:00\",\"2022-07-25T00:00:00\",\"2022-07-26T00:00:00\",\"2022-07-27T00:00:00\",\"2022-07-28T00:00:00\",\"2022-07-29T00:00:00\",\"2022-07-30T00:00:00\",\"2022-07-31T00:00:00\",\"2022-08-01T00:00:00\",\"2022-08-02T00:00:00\",\"2022-08-03T00:00:00\",\"2022-08-04T00:00:00\",\"2022-08-05T00:00:00\",\"2022-08-06T00:00:00\",\"2022-08-07T00:00:00\",\"2022-08-08T00:00:00\",\"2022-08-10T00:00:00\",\"2022-08-11T00:00:00\",\"2022-08-12T00:00:00\",\"2022-08-13T00:00:00\",\"2022-08-14T00:00:00\",\"2022-08-15T00:00:00\",\"2022-08-16T00:00:00\",\"2022-08-17T00:00:00\",\"2022-08-18T00:00:00\",\"2022-08-19T00:00:00\",\"2022-08-20T00:00:00\",\"2022-08-21T00:00:00\",\"2022-08-22T00:00:00\",\"2022-08-23T00:00:00\",\"2022-08-24T00:00:00\",\"2022-08-25T00:00:00\",\"2022-08-26T00:00:00\",\"2022-08-27T00:00:00\",\"2022-08-28T00:00:00\",\"2022-08-29T00:00:00\",\"2022-08-30T00:00:00\",\"2022-08-31T00:00:00\",\"2022-09-01T00:00:00\",\"2022-09-02T00:00:00\",\"2022-09-03T00:00:00\",\"2022-09-04T00:00:00\",\"2022-09-05T00:00:00\",\"2022-09-06T00:00:00\",\"2022-09-07T00:00:00\",\"2022-09-08T00:00:00\",\"2022-09-09T00:00:00\",\"2022-09-10T00:00:00\",\"2022-09-11T00:00:00\",\"2022-09-12T00:00:00\",\"2022-09-13T00:00:00\",\"2022-09-14T00:00:00\",\"2022-09-15T00:00:00\",\"2022-09-16T00:00:00\",\"2022-09-17T00:00:00\",\"2022-09-19T00:00:00\",\"2022-09-21T00:00:00\",\"2022-09-23T00:00:00\",\"2022-09-24T00:00:00\",\"2022-09-25T00:00:00\",\"2022-09-26T00:00:00\",\"2022-09-28T00:00:00\",\"2022-09-30T00:00:00\",\"2022-10-01T00:00:00\",\"2022-10-02T00:00:00\",\"2022-10-03T00:00:00\",\"2022-10-04T00:00:00\",\"2022-10-05T00:00:00\",\"2022-10-06T00:00:00\",\"2022-10-07T00:00:00\",\"2022-10-08T00:00:00\",\"2022-10-09T00:00:00\",\"2022-10-10T00:00:00\",\"2022-10-11T00:00:00\",\"2022-10-12T00:00:00\",\"2022-10-13T00:00:00\",\"2022-10-14T00:00:00\",\"2022-10-16T00:00:00\",\"2022-10-17T00:00:00\",\"2022-10-18T00:00:00\",\"2022-10-19T00:00:00\",\"2022-10-20T00:00:00\",\"2022-10-21T00:00:00\",\"2022-10-22T00:00:00\",\"2022-10-23T00:00:00\",\"2022-10-24T00:00:00\",\"2022-10-25T00:00:00\",\"2022-10-26T00:00:00\",\"2022-10-28T00:00:00\",\"2022-10-29T00:00:00\",\"2022-10-30T00:00:00\",\"2022-10-31T00:00:00\",\"2022-11-01T00:00:00\",\"2022-11-03T00:00:00\",\"2022-11-04T00:00:00\",\"2022-11-05T00:00:00\",\"2022-11-06T00:00:00\",\"2022-11-07T00:00:00\",\"2022-11-09T00:00:00\",\"2022-11-10T00:00:00\",\"2022-11-11T00:00:00\",\"2022-11-12T00:00:00\",\"2022-11-13T00:00:00\",\"2022-11-14T00:00:00\",\"2022-11-15T00:00:00\",\"2022-11-16T00:00:00\",\"2022-11-17T00:00:00\",\"2022-11-18T00:00:00\",\"2022-11-19T00:00:00\",\"2022-11-20T00:00:00\",\"2022-11-21T00:00:00\",\"2022-11-22T00:00:00\",\"2022-11-23T00:00:00\",\"2022-11-24T00:00:00\",\"2022-11-25T00:00:00\",\"2022-11-26T00:00:00\",\"2022-11-27T00:00:00\",\"2022-11-28T00:00:00\",\"2022-11-29T00:00:00\",\"2022-11-30T00:00:00\",\"2022-12-01T00:00:00\",\"2022-12-02T00:00:00\",\"2022-12-03T00:00:00\",\"2022-12-04T00:00:00\",\"2022-12-05T00:00:00\",\"2022-12-06T00:00:00\",\"2022-12-07T00:00:00\",\"2022-12-08T00:00:00\",\"2022-12-09T00:00:00\",\"2022-12-11T00:00:00\",\"2022-12-12T00:00:00\",\"2022-12-13T00:00:00\",\"2022-12-14T00:00:00\",\"2022-12-15T00:00:00\",\"2022-12-16T00:00:00\",\"2022-12-17T00:00:00\",\"2022-12-18T00:00:00\",\"2022-12-19T00:00:00\",\"2022-12-21T00:00:00\",\"2022-12-22T00:00:00\",\"2022-12-23T00:00:00\",\"2022-12-24T00:00:00\",\"2022-12-25T00:00:00\",\"2022-12-26T00:00:00\",\"2022-12-27T00:00:00\",\"2022-12-28T00:00:00\",\"2022-12-29T00:00:00\",\"2022-12-30T00:00:00\",\"2022-12-31T00:00:00\"],\"y\":[525,125,610,195,900,910,920,360,1140,1340,880,1405,180,700,1710,1320,490,385,1520,345,120,485,640,195,240,525,675,195,820,375,2005,200,430,955,2040,2050,1270,1015,580,960,1010,1520,460,1000,1420,655,200,150,550,50,325,540,375,810,565,200,420,705,780,80,1850,475,430,715,1805,420,250,600,775,880,480,695,1625,765,100,810,1315,710,675,620,1360,1140,825,770,150,1120,930,370,2115,720,1210,750,1280,275,1045,275,400,600,175,320,175,705,590,1280,360,2110,1930,750,500,1000,240,125,160,1150,875,1535,1125,1095,235,400,100,160,550,80,2010,510,660,1835,1025,1280,790,280,570,50,2540,695,720,375,425,1200,390,750,450,940,1125,1495,985,1485,1340,945,240,725,1405,740,1165,300,460,360,1995,460,1260,750,1950,580,50,1120,225,825,625,940,225,970,410,550,1375,1185,260,675,1215,525,525,175,710,515,1610,685,740,1385,75,625,580,1110,890,995,800,750,265,800,205,50,1220,200,1130,1420,1030,1050,460,660,545,1425,995,1750,865,1035,50,680,950,1150,195,1035,360,675,600,1455,925,905,1575,270,25,460,700,350,745,690,500,570,1220,300,675,420,615,950,985,945,450,795,735,240,930,655,1540,360,975,1305,450,2230,910,1710,600,1185,1075,1055,1100,660,785,160,1205,600,455,350,1750,1000,600,1065,250,650,1405,1180,530,420,600,1400,550,1595,280,160,970,1310,800,750,1290,300,360,155,480,470,1275,750,330,400,1100,1890,725,780,360,75,530,940,850,920,1880,740,2155,1660,750,850,1360,1020,225,870,1230,850,1165,375,400,280,1890,475,595,325,920,1190,540,300,800,550,1750,760,400,1405,220,480],\"type\":\"scatter\"}],                        {\"template\":{\"data\":{\"histogram2dcontour\":[{\"type\":\"histogram2dcontour\",\"colorbar\":{\"outlinewidth\":0,\"ticks\":\"\"},\"colorscale\":[[0.0,\"#0d0887\"],[0.1111111111111111,\"#46039f\"],[0.2222222222222222,\"#7201a8\"],[0.3333333333333333,\"#9c179e\"],[0.4444444444444444,\"#bd3786\"],[0.5555555555555556,\"#d8576b\"],[0.6666666666666666,\"#ed7953\"],[0.7777777777777778,\"#fb9f3a\"],[0.8888888888888888,\"#fdca26\"],[1.0,\"#f0f921\"]]}],\"choropleth\":[{\"type\":\"choropleth\",\"colorbar\":{\"outlinewidth\":0,\"ticks\":\"\"}}],\"histogram2d\":[{\"type\":\"histogram2d\",\"colorbar\":{\"outlinewidth\":0,\"ticks\":\"\"},\"colorscale\":[[0.0,\"#0d0887\"],[0.1111111111111111,\"#46039f\"],[0.2222222222222222,\"#7201a8\"],[0.3333333333333333,\"#9c179e\"],[0.4444444444444444,\"#bd3786\"],[0.5555555555555556,\"#d8576b\"],[0.6666666666666666,\"#ed7953\"],[0.7777777777777778,\"#fb9f3a\"],[0.8888888888888888,\"#fdca26\"],[1.0,\"#f0f921\"]]}],\"heatmap\":[{\"type\":\"heatmap\",\"colorbar\":{\"outlinewidth\":0,\"ticks\":\"\"},\"colorscale\":[[0.0,\"#0d0887\"],[0.1111111111111111,\"#46039f\"],[0.2222222222222222,\"#7201a8\"],[0.3333333333333333,\"#9c179e\"],[0.4444444444444444,\"#bd3786\"],[0.5555555555555556,\"#d8576b\"],[0.6666666666666666,\"#ed7953\"],[0.7777777777777778,\"#fb9f3a\"],[0.8888888888888888,\"#fdca26\"],[1.0,\"#f0f921\"]]}],\"heatmapgl\":[{\"type\":\"heatmapgl\",\"colorbar\":{\"outlinewidth\":0,\"ticks\":\"\"},\"colorscale\":[[0.0,\"#0d0887\"],[0.1111111111111111,\"#46039f\"],[0.2222222222222222,\"#7201a8\"],[0.3333333333333333,\"#9c179e\"],[0.4444444444444444,\"#bd3786\"],[0.5555555555555556,\"#d8576b\"],[0.6666666666666666,\"#ed7953\"],[0.7777777777777778,\"#fb9f3a\"],[0.8888888888888888,\"#fdca26\"],[1.0,\"#f0f921\"]]}],\"contourcarpet\":[{\"type\":\"contourcarpet\",\"colorbar\":{\"outlinewidth\":0,\"ticks\":\"\"}}],\"contour\":[{\"type\":\"contour\",\"colorbar\":{\"outlinewidth\":0,\"ticks\":\"\"},\"colorscale\":[[0.0,\"#0d0887\"],[0.1111111111111111,\"#46039f\"],[0.2222222222222222,\"#7201a8\"],[0.3333333333333333,\"#9c179e\"],[0.4444444444444444,\"#bd3786\"],[0.5555555555555556,\"#d8576b\"],[0.6666666666666666,\"#ed7953\"],[0.7777777777777778,\"#fb9f3a\"],[0.8888888888888888,\"#fdca26\"],[1.0,\"#f0f921\"]]}],\"surface\":[{\"type\":\"surface\",\"colorbar\":{\"outlinewidth\":0,\"ticks\":\"\"},\"colorscale\":[[0.0,\"#0d0887\"],[0.1111111111111111,\"#46039f\"],[0.2222222222222222,\"#7201a8\"],[0.3333333333333333,\"#9c179e\"],[0.4444444444444444,\"#bd3786\"],[0.5555555555555556,\"#d8576b\"],[0.6666666666666666,\"#ed7953\"],[0.7777777777777778,\"#fb9f3a\"],[0.8888888888888888,\"#fdca26\"],[1.0,\"#f0f921\"]]}],\"mesh3d\":[{\"type\":\"mesh3d\",\"colorbar\":{\"outlinewidth\":0,\"ticks\":\"\"}}],\"scatter\":[{\"fillpattern\":{\"fillmode\":\"overlay\",\"size\":10,\"solidity\":0.2},\"type\":\"scatter\"}],\"parcoords\":[{\"type\":\"parcoords\",\"line\":{\"colorbar\":{\"outlinewidth\":0,\"ticks\":\"\"}}}],\"scatterpolargl\":[{\"type\":\"scatterpolargl\",\"marker\":{\"colorbar\":{\"outlinewidth\":0,\"ticks\":\"\"}}}],\"bar\":[{\"error_x\":{\"color\":\"#2a3f5f\"},\"error_y\":{\"color\":\"#2a3f5f\"},\"marker\":{\"line\":{\"color\":\"#E5ECF6\",\"width\":0.5},\"pattern\":{\"fillmode\":\"overlay\",\"size\":10,\"solidity\":0.2}},\"type\":\"bar\"}],\"scattergeo\":[{\"type\":\"scattergeo\",\"marker\":{\"colorbar\":{\"outlinewidth\":0,\"ticks\":\"\"}}}],\"scatterpolar\":[{\"type\":\"scatterpolar\",\"marker\":{\"colorbar\":{\"outlinewidth\":0,\"ticks\":\"\"}}}],\"histogram\":[{\"marker\":{\"pattern\":{\"fillmode\":\"overlay\",\"size\":10,\"solidity\":0.2}},\"type\":\"histogram\"}],\"scattergl\":[{\"type\":\"scattergl\",\"marker\":{\"colorbar\":{\"outlinewidth\":0,\"ticks\":\"\"}}}],\"scatter3d\":[{\"type\":\"scatter3d\",\"line\":{\"colorbar\":{\"outlinewidth\":0,\"ticks\":\"\"}},\"marker\":{\"colorbar\":{\"outlinewidth\":0,\"ticks\":\"\"}}}],\"scattermapbox\":[{\"type\":\"scattermapbox\",\"marker\":{\"colorbar\":{\"outlinewidth\":0,\"ticks\":\"\"}}}],\"scatterternary\":[{\"type\":\"scatterternary\",\"marker\":{\"colorbar\":{\"outlinewidth\":0,\"ticks\":\"\"}}}],\"scattercarpet\":[{\"type\":\"scattercarpet\",\"marker\":{\"colorbar\":{\"outlinewidth\":0,\"ticks\":\"\"}}}],\"carpet\":[{\"aaxis\":{\"endlinecolor\":\"#2a3f5f\",\"gridcolor\":\"white\",\"linecolor\":\"white\",\"minorgridcolor\":\"white\",\"startlinecolor\":\"#2a3f5f\"},\"baxis\":{\"endlinecolor\":\"#2a3f5f\",\"gridcolor\":\"white\",\"linecolor\":\"white\",\"minorgridcolor\":\"white\",\"startlinecolor\":\"#2a3f5f\"},\"type\":\"carpet\"}],\"table\":[{\"cells\":{\"fill\":{\"color\":\"#EBF0F8\"},\"line\":{\"color\":\"white\"}},\"header\":{\"fill\":{\"color\":\"#C8D4E3\"},\"line\":{\"color\":\"white\"}},\"type\":\"table\"}],\"barpolar\":[{\"marker\":{\"line\":{\"color\":\"#E5ECF6\",\"width\":0.5},\"pattern\":{\"fillmode\":\"overlay\",\"size\":10,\"solidity\":0.2}},\"type\":\"barpolar\"}],\"pie\":[{\"automargin\":true,\"type\":\"pie\"}]},\"layout\":{\"autotypenumbers\":\"strict\",\"colorway\":[\"#636efa\",\"#EF553B\",\"#00cc96\",\"#ab63fa\",\"#FFA15A\",\"#19d3f3\",\"#FF6692\",\"#B6E880\",\"#FF97FF\",\"#FECB52\"],\"font\":{\"color\":\"#2a3f5f\"},\"hovermode\":\"closest\",\"hoverlabel\":{\"align\":\"left\"},\"paper_bgcolor\":\"white\",\"plot_bgcolor\":\"#E5ECF6\",\"polar\":{\"bgcolor\":\"#E5ECF6\",\"angularaxis\":{\"gridcolor\":\"white\",\"linecolor\":\"white\",\"ticks\":\"\"},\"radialaxis\":{\"gridcolor\":\"white\",\"linecolor\":\"white\",\"ticks\":\"\"}},\"ternary\":{\"bgcolor\":\"#E5ECF6\",\"aaxis\":{\"gridcolor\":\"white\",\"linecolor\":\"white\",\"ticks\":\"\"},\"baxis\":{\"gridcolor\":\"white\",\"linecolor\":\"white\",\"ticks\":\"\"},\"caxis\":{\"gridcolor\":\"white\",\"linecolor\":\"white\",\"ticks\":\"\"}},\"coloraxis\":{\"colorbar\":{\"outlinewidth\":0,\"ticks\":\"\"}},\"colorscale\":{\"sequential\":[[0.0,\"#0d0887\"],[0.1111111111111111,\"#46039f\"],[0.2222222222222222,\"#7201a8\"],[0.3333333333333333,\"#9c179e\"],[0.4444444444444444,\"#bd3786\"],[0.5555555555555556,\"#d8576b\"],[0.6666666666666666,\"#ed7953\"],[0.7777777777777778,\"#fb9f3a\"],[0.8888888888888888,\"#fdca26\"],[1.0,\"#f0f921\"]],\"sequentialminus\":[[0.0,\"#0d0887\"],[0.1111111111111111,\"#46039f\"],[0.2222222222222222,\"#7201a8\"],[0.3333333333333333,\"#9c179e\"],[0.4444444444444444,\"#bd3786\"],[0.5555555555555556,\"#d8576b\"],[0.6666666666666666,\"#ed7953\"],[0.7777777777777778,\"#fb9f3a\"],[0.8888888888888888,\"#fdca26\"],[1.0,\"#f0f921\"]],\"diverging\":[[0,\"#8e0152\"],[0.1,\"#c51b7d\"],[0.2,\"#de77ae\"],[0.3,\"#f1b6da\"],[0.4,\"#fde0ef\"],[0.5,\"#f7f7f7\"],[0.6,\"#e6f5d0\"],[0.7,\"#b8e186\"],[0.8,\"#7fbc41\"],[0.9,\"#4d9221\"],[1,\"#276419\"]]},\"xaxis\":{\"gridcolor\":\"white\",\"linecolor\":\"white\",\"ticks\":\"\",\"title\":{\"standoff\":15},\"zerolinecolor\":\"white\",\"automargin\":true,\"zerolinewidth\":2},\"yaxis\":{\"gridcolor\":\"white\",\"linecolor\":\"white\",\"ticks\":\"\",\"title\":{\"standoff\":15},\"zerolinecolor\":\"white\",\"automargin\":true,\"zerolinewidth\":2},\"scene\":{\"xaxis\":{\"backgroundcolor\":\"#E5ECF6\",\"gridcolor\":\"white\",\"linecolor\":\"white\",\"showbackground\":true,\"ticks\":\"\",\"zerolinecolor\":\"white\",\"gridwidth\":2},\"yaxis\":{\"backgroundcolor\":\"#E5ECF6\",\"gridcolor\":\"white\",\"linecolor\":\"white\",\"showbackground\":true,\"ticks\":\"\",\"zerolinecolor\":\"white\",\"gridwidth\":2},\"zaxis\":{\"backgroundcolor\":\"#E5ECF6\",\"gridcolor\":\"white\",\"linecolor\":\"white\",\"showbackground\":true,\"ticks\":\"\",\"zerolinecolor\":\"white\",\"gridwidth\":2}},\"shapedefaults\":{\"line\":{\"color\":\"#2a3f5f\"}},\"annotationdefaults\":{\"arrowcolor\":\"#2a3f5f\",\"arrowhead\":0,\"arrowwidth\":1},\"geo\":{\"bgcolor\":\"white\",\"landcolor\":\"#E5ECF6\",\"subunitcolor\":\"white\",\"showland\":true,\"showlakes\":true,\"lakecolor\":\"white\"},\"title\":{\"x\":0.05},\"mapbox\":{\"style\":\"light\"}}},\"title\":{\"text\":\"Dates in Total Sales Values\"},\"xaxis\":{\"title\":{\"text\":\"sale_date\"}},\"yaxis\":{\"title\":{\"text\":\"total_sales\"}}},                        {\"responsive\": true}                    )                };                            </script>        </div>"
            ],
            "text/plain": [
              "Figure({\n",
              "    'data': [{'mode': 'lines+markers',\n",
              "              'type': 'scatter',\n",
              "              'x': array([datetime.datetime(2022, 1, 1, 0, 0),\n",
              "                          datetime.datetime(2022, 1, 2, 0, 0),\n",
              "                          datetime.datetime(2022, 1, 3, 0, 0), ...,\n",
              "                          datetime.datetime(2022, 12, 29, 0, 0),\n",
              "                          datetime.datetime(2022, 12, 30, 0, 0),\n",
              "                          datetime.datetime(2022, 12, 31, 0, 0)], dtype=object),\n",
              "              'y': array([ 525,  125,  610, ..., 1405,  220,  480], dtype=int64)}],\n",
              "    'layout': {'template': '...',\n",
              "               'title': {'text': 'Dates in Total Sales Values'},\n",
              "               'xaxis': {'title': {'text': 'sale_date'}},\n",
              "               'yaxis': {'title': {'text': 'total_sales'}}}\n",
              "})"
            ]
          },
          "execution_count": 73,
          "metadata": {},
          "output_type": "execute_result"
        }
      ],
      "source": [
        "fig = go.Figure()\n",
        "fig.add_trace(go.Scatter(x=df['sale_date'], y=df['total_sales'], mode='lines+markers'))\n",
        "# Customize layout (optional)\n",
        "fig.update_layout(\n",
        "    title=\"Dates in Total Sales Values\",\n",
        "    xaxis_title=\"sale_date\",\n",
        "    yaxis_title=\"total_sales\",\n",
        ")\n"
      ]
    },
    {
      "cell_type": "markdown",
      "metadata": {},
      "source": [
        "!conda install nbformat\n",
        "\n"
      ]
    },
    {
      "cell_type": "code",
      "execution_count": 74,
      "metadata": {},
      "outputs": [
        {
          "data": {
            "text/html": [
              "<div>\n",
              "<style scoped>\n",
              "    .dataframe tbody tr th:only-of-type {\n",
              "        vertical-align: middle;\n",
              "    }\n",
              "\n",
              "    .dataframe tbody tr th {\n",
              "        vertical-align: top;\n",
              "    }\n",
              "\n",
              "    .dataframe thead th {\n",
              "        text-align: right;\n",
              "    }\n",
              "</style>\n",
              "<table border=\"1\" class=\"dataframe\">\n",
              "  <thead>\n",
              "    <tr style=\"text-align: right;\">\n",
              "      <th></th>\n",
              "      <th>sale_date</th>\n",
              "      <th>total_sales</th>\n",
              "    </tr>\n",
              "  </thead>\n",
              "  <tbody>\n",
              "    <tr>\n",
              "      <th>0</th>\n",
              "      <td>2022-01-01</td>\n",
              "      <td>525</td>\n",
              "    </tr>\n",
              "    <tr>\n",
              "      <th>1</th>\n",
              "      <td>2022-01-02</td>\n",
              "      <td>125</td>\n",
              "    </tr>\n",
              "    <tr>\n",
              "      <th>2</th>\n",
              "      <td>2022-01-03</td>\n",
              "      <td>610</td>\n",
              "    </tr>\n",
              "    <tr>\n",
              "      <th>3</th>\n",
              "      <td>2022-01-04</td>\n",
              "      <td>195</td>\n",
              "    </tr>\n",
              "    <tr>\n",
              "      <th>4</th>\n",
              "      <td>2022-01-05</td>\n",
              "      <td>900</td>\n",
              "    </tr>\n",
              "    <tr>\n",
              "      <th>...</th>\n",
              "      <td>...</td>\n",
              "      <td>...</td>\n",
              "    </tr>\n",
              "    <tr>\n",
              "      <th>337</th>\n",
              "      <td>2022-12-27</td>\n",
              "      <td>760</td>\n",
              "    </tr>\n",
              "    <tr>\n",
              "      <th>338</th>\n",
              "      <td>2022-12-28</td>\n",
              "      <td>400</td>\n",
              "    </tr>\n",
              "    <tr>\n",
              "      <th>339</th>\n",
              "      <td>2022-12-29</td>\n",
              "      <td>1405</td>\n",
              "    </tr>\n",
              "    <tr>\n",
              "      <th>340</th>\n",
              "      <td>2022-12-30</td>\n",
              "      <td>220</td>\n",
              "    </tr>\n",
              "    <tr>\n",
              "      <th>341</th>\n",
              "      <td>2022-12-31</td>\n",
              "      <td>480</td>\n",
              "    </tr>\n",
              "  </tbody>\n",
              "</table>\n",
              "<p>342 rows × 2 columns</p>\n",
              "</div>"
            ],
            "text/plain": [
              "     sale_date  total_sales\n",
              "0   2022-01-01          525\n",
              "1   2022-01-02          125\n",
              "2   2022-01-03          610\n",
              "3   2022-01-04          195\n",
              "4   2022-01-05          900\n",
              "..         ...          ...\n",
              "337 2022-12-27          760\n",
              "338 2022-12-28          400\n",
              "339 2022-12-29         1405\n",
              "340 2022-12-30          220\n",
              "341 2022-12-31          480\n",
              "\n",
              "[342 rows x 2 columns]"
            ]
          },
          "execution_count": 74,
          "metadata": {},
          "output_type": "execute_result"
        }
      ],
      "source": [
        "df"
      ]
    },
    {
      "cell_type": "markdown",
      "metadata": {},
      "source": [
        "Methode 2: "
      ]
    },
    {
      "cell_type": "code",
      "execution_count": 75,
      "metadata": {},
      "outputs": [
        {
          "data": {
            "text/html": [
              "<div>\n",
              "<style scoped>\n",
              "    .dataframe tbody tr th:only-of-type {\n",
              "        vertical-align: middle;\n",
              "    }\n",
              "\n",
              "    .dataframe tbody tr th {\n",
              "        vertical-align: top;\n",
              "    }\n",
              "\n",
              "    .dataframe thead th {\n",
              "        text-align: right;\n",
              "    }\n",
              "</style>\n",
              "<table border=\"1\" class=\"dataframe\">\n",
              "  <thead>\n",
              "    <tr style=\"text-align: right;\">\n",
              "      <th></th>\n",
              "      <th>sale_date</th>\n",
              "      <th>total_sales</th>\n",
              "    </tr>\n",
              "  </thead>\n",
              "  <tbody>\n",
              "    <tr>\n",
              "      <th>0</th>\n",
              "      <td>2022-01-01</td>\n",
              "      <td>525</td>\n",
              "    </tr>\n",
              "    <tr>\n",
              "      <th>1</th>\n",
              "      <td>2022-01-02</td>\n",
              "      <td>125</td>\n",
              "    </tr>\n",
              "    <tr>\n",
              "      <th>2</th>\n",
              "      <td>2022-01-03</td>\n",
              "      <td>610</td>\n",
              "    </tr>\n",
              "    <tr>\n",
              "      <th>3</th>\n",
              "      <td>2022-01-04</td>\n",
              "      <td>195</td>\n",
              "    </tr>\n",
              "    <tr>\n",
              "      <th>4</th>\n",
              "      <td>2022-01-05</td>\n",
              "      <td>900</td>\n",
              "    </tr>\n",
              "    <tr>\n",
              "      <th>...</th>\n",
              "      <td>...</td>\n",
              "      <td>...</td>\n",
              "    </tr>\n",
              "    <tr>\n",
              "      <th>337</th>\n",
              "      <td>2022-12-27</td>\n",
              "      <td>760</td>\n",
              "    </tr>\n",
              "    <tr>\n",
              "      <th>338</th>\n",
              "      <td>2022-12-28</td>\n",
              "      <td>400</td>\n",
              "    </tr>\n",
              "    <tr>\n",
              "      <th>339</th>\n",
              "      <td>2022-12-29</td>\n",
              "      <td>1405</td>\n",
              "    </tr>\n",
              "    <tr>\n",
              "      <th>340</th>\n",
              "      <td>2022-12-30</td>\n",
              "      <td>220</td>\n",
              "    </tr>\n",
              "    <tr>\n",
              "      <th>341</th>\n",
              "      <td>2022-12-31</td>\n",
              "      <td>480</td>\n",
              "    </tr>\n",
              "  </tbody>\n",
              "</table>\n",
              "<p>342 rows × 2 columns</p>\n",
              "</div>"
            ],
            "text/plain": [
              "     sale_date  total_sales\n",
              "0   2022-01-01          525\n",
              "1   2022-01-02          125\n",
              "2   2022-01-03          610\n",
              "3   2022-01-04          195\n",
              "4   2022-01-05          900\n",
              "..         ...          ...\n",
              "337 2022-12-27          760\n",
              "338 2022-12-28          400\n",
              "339 2022-12-29         1405\n",
              "340 2022-12-30          220\n",
              "341 2022-12-31          480\n",
              "\n",
              "[342 rows x 2 columns]"
            ]
          },
          "execution_count": 75,
          "metadata": {},
          "output_type": "execute_result"
        }
      ],
      "source": [
        "df"
      ]
    },
    {
      "cell_type": "code",
      "execution_count": 76,
      "metadata": {},
      "outputs": [
        {
          "data": {
            "text/html": [
              "<div>\n",
              "<style scoped>\n",
              "    .dataframe tbody tr th:only-of-type {\n",
              "        vertical-align: middle;\n",
              "    }\n",
              "\n",
              "    .dataframe tbody tr th {\n",
              "        vertical-align: top;\n",
              "    }\n",
              "\n",
              "    .dataframe thead th {\n",
              "        text-align: right;\n",
              "    }\n",
              "</style>\n",
              "<table border=\"1\" class=\"dataframe\">\n",
              "  <thead>\n",
              "    <tr style=\"text-align: right;\">\n",
              "      <th></th>\n",
              "      <th>total_sales</th>\n",
              "    </tr>\n",
              "    <tr>\n",
              "      <th>sale_date</th>\n",
              "      <th></th>\n",
              "    </tr>\n",
              "  </thead>\n",
              "  <tbody>\n",
              "    <tr>\n",
              "      <th>2022-01-01</th>\n",
              "      <td>525</td>\n",
              "    </tr>\n",
              "    <tr>\n",
              "      <th>2022-01-02</th>\n",
              "      <td>125</td>\n",
              "    </tr>\n",
              "    <tr>\n",
              "      <th>2022-01-03</th>\n",
              "      <td>610</td>\n",
              "    </tr>\n",
              "  </tbody>\n",
              "</table>\n",
              "</div>"
            ],
            "text/plain": [
              "            total_sales\n",
              "sale_date              \n",
              "2022-01-01          525\n",
              "2022-01-02          125\n",
              "2022-01-03          610"
            ]
          },
          "execution_count": 76,
          "metadata": {},
          "output_type": "execute_result"
        }
      ],
      "source": [
        "df = df.set_index('sale_date')\n",
        "df.head(3)"
      ]
    },
    {
      "cell_type": "code",
      "execution_count": 77,
      "metadata": {},
      "outputs": [
        {
          "name": "stderr",
          "output_type": "stream",
          "text": [
            "C:\\Users\\debbi\\AppData\\Local\\Temp\\ipykernel_8256\\2781757725.py:2: FutureWarning:\n",
            "\n",
            "'M' is deprecated and will be removed in a future version, please use 'ME' instead.\n",
            "\n"
          ]
        },
        {
          "data": {
            "text/html": [
              "<div>\n",
              "<style scoped>\n",
              "    .dataframe tbody tr th:only-of-type {\n",
              "        vertical-align: middle;\n",
              "    }\n",
              "\n",
              "    .dataframe tbody tr th {\n",
              "        vertical-align: top;\n",
              "    }\n",
              "\n",
              "    .dataframe thead th {\n",
              "        text-align: right;\n",
              "    }\n",
              "</style>\n",
              "<table border=\"1\" class=\"dataframe\">\n",
              "  <thead>\n",
              "    <tr style=\"text-align: right;\">\n",
              "      <th></th>\n",
              "      <th>total_sales</th>\n",
              "    </tr>\n",
              "    <tr>\n",
              "      <th>sale_date</th>\n",
              "      <th></th>\n",
              "    </tr>\n",
              "  </thead>\n",
              "  <tbody>\n",
              "    <tr>\n",
              "      <th>2022-01-31</th>\n",
              "      <td>20230</td>\n",
              "    </tr>\n",
              "    <tr>\n",
              "      <th>2022-02-28</th>\n",
              "      <td>22460</td>\n",
              "    </tr>\n",
              "    <tr>\n",
              "      <th>2022-03-31</th>\n",
              "      <td>23150</td>\n",
              "    </tr>\n",
              "    <tr>\n",
              "      <th>2022-04-30</th>\n",
              "      <td>19460</td>\n",
              "    </tr>\n",
              "    <tr>\n",
              "      <th>2022-05-31</th>\n",
              "      <td>23410</td>\n",
              "    </tr>\n",
              "    <tr>\n",
              "      <th>2022-06-30</th>\n",
              "      <td>24940</td>\n",
              "    </tr>\n",
              "    <tr>\n",
              "      <th>2022-07-31</th>\n",
              "      <td>22100</td>\n",
              "    </tr>\n",
              "    <tr>\n",
              "      <th>2022-08-31</th>\n",
              "      <td>24575</td>\n",
              "    </tr>\n",
              "    <tr>\n",
              "      <th>2022-09-30</th>\n",
              "      <td>19630</td>\n",
              "    </tr>\n",
              "    <tr>\n",
              "      <th>2022-10-31</th>\n",
              "      <td>25125</td>\n",
              "    </tr>\n",
              "    <tr>\n",
              "      <th>2022-11-30</th>\n",
              "      <td>22745</td>\n",
              "    </tr>\n",
              "    <tr>\n",
              "      <th>2022-12-31</th>\n",
              "      <td>23635</td>\n",
              "    </tr>\n",
              "  </tbody>\n",
              "</table>\n",
              "</div>"
            ],
            "text/plain": [
              "            total_sales\n",
              "sale_date              \n",
              "2022-01-31        20230\n",
              "2022-02-28        22460\n",
              "2022-03-31        23150\n",
              "2022-04-30        19460\n",
              "2022-05-31        23410\n",
              "2022-06-30        24940\n",
              "2022-07-31        22100\n",
              "2022-08-31        24575\n",
              "2022-09-30        19630\n",
              "2022-10-31        25125\n",
              "2022-11-30        22745\n",
              "2022-12-31        23635"
            ]
          },
          "execution_count": 77,
          "metadata": {},
          "output_type": "execute_result"
        }
      ],
      "source": [
        "#Rééchantillonnez les données à une fréquence mensuelle et calculez la somme\n",
        "df_monthly = df.resample('M').sum()\n",
        "df_monthly"
      ]
    },
    {
      "cell_type": "code",
      "execution_count": 78,
      "metadata": {},
      "outputs": [
        {
          "data": {
            "text/html": [
              "<div>\n",
              "<style scoped>\n",
              "    .dataframe tbody tr th:only-of-type {\n",
              "        vertical-align: middle;\n",
              "    }\n",
              "\n",
              "    .dataframe tbody tr th {\n",
              "        vertical-align: top;\n",
              "    }\n",
              "\n",
              "    .dataframe thead th {\n",
              "        text-align: right;\n",
              "    }\n",
              "</style>\n",
              "<table border=\"1\" class=\"dataframe\">\n",
              "  <thead>\n",
              "    <tr style=\"text-align: right;\">\n",
              "      <th></th>\n",
              "      <th>total_sales</th>\n",
              "      <th>month_name</th>\n",
              "    </tr>\n",
              "    <tr>\n",
              "      <th>sale_date</th>\n",
              "      <th></th>\n",
              "      <th></th>\n",
              "    </tr>\n",
              "  </thead>\n",
              "  <tbody>\n",
              "    <tr>\n",
              "      <th>2022-01-31</th>\n",
              "      <td>20230</td>\n",
              "      <td>Jan</td>\n",
              "    </tr>\n",
              "    <tr>\n",
              "      <th>2022-02-28</th>\n",
              "      <td>22460</td>\n",
              "      <td>Feb</td>\n",
              "    </tr>\n",
              "    <tr>\n",
              "      <th>2022-03-31</th>\n",
              "      <td>23150</td>\n",
              "      <td>Mar</td>\n",
              "    </tr>\n",
              "    <tr>\n",
              "      <th>2022-04-30</th>\n",
              "      <td>19460</td>\n",
              "      <td>Apr</td>\n",
              "    </tr>\n",
              "    <tr>\n",
              "      <th>2022-05-31</th>\n",
              "      <td>23410</td>\n",
              "      <td>May</td>\n",
              "    </tr>\n",
              "    <tr>\n",
              "      <th>2022-06-30</th>\n",
              "      <td>24940</td>\n",
              "      <td>Jun</td>\n",
              "    </tr>\n",
              "    <tr>\n",
              "      <th>2022-07-31</th>\n",
              "      <td>22100</td>\n",
              "      <td>Jul</td>\n",
              "    </tr>\n",
              "    <tr>\n",
              "      <th>2022-08-31</th>\n",
              "      <td>24575</td>\n",
              "      <td>Aug</td>\n",
              "    </tr>\n",
              "    <tr>\n",
              "      <th>2022-09-30</th>\n",
              "      <td>19630</td>\n",
              "      <td>Sep</td>\n",
              "    </tr>\n",
              "    <tr>\n",
              "      <th>2022-10-31</th>\n",
              "      <td>25125</td>\n",
              "      <td>Oct</td>\n",
              "    </tr>\n",
              "    <tr>\n",
              "      <th>2022-11-30</th>\n",
              "      <td>22745</td>\n",
              "      <td>Nov</td>\n",
              "    </tr>\n",
              "    <tr>\n",
              "      <th>2022-12-31</th>\n",
              "      <td>23635</td>\n",
              "      <td>Dec</td>\n",
              "    </tr>\n",
              "  </tbody>\n",
              "</table>\n",
              "</div>"
            ],
            "text/plain": [
              "            total_sales month_name\n",
              "sale_date                         \n",
              "2022-01-31        20230        Jan\n",
              "2022-02-28        22460        Feb\n",
              "2022-03-31        23150        Mar\n",
              "2022-04-30        19460        Apr\n",
              "2022-05-31        23410        May\n",
              "2022-06-30        24940        Jun\n",
              "2022-07-31        22100        Jul\n",
              "2022-08-31        24575        Aug\n",
              "2022-09-30        19630        Sep\n",
              "2022-10-31        25125        Oct\n",
              "2022-11-30        22745        Nov\n",
              "2022-12-31        23635        Dec"
            ]
          },
          "execution_count": 78,
          "metadata": {},
          "output_type": "execute_result"
        }
      ],
      "source": [
        "#mapper le numéro du mois avec le nom court du mois\n",
        "df_monthly['month_name'] = df_monthly.index.strftime('%b')\n",
        "df_monthly"
      ]
    },
    {
      "cell_type": "code",
      "execution_count": 79,
      "metadata": {},
      "outputs": [
        {
          "ename": "ValueError",
          "evalue": "Mime type rendering requires nbformat>=4.2.0 but it is not installed",
          "output_type": "error",
          "traceback": [
            "\u001b[1;31m---------------------------------------------------------------------------\u001b[0m",
            "\u001b[1;31mValueError\u001b[0m                                Traceback (most recent call last)",
            "Cell \u001b[1;32mIn[79], line 16\u001b[0m\n\u001b[0;32m      8\u001b[0m fig\u001b[38;5;241m.\u001b[39mupdate_layout(\n\u001b[0;32m      9\u001b[0m     title\u001b[38;5;241m=\u001b[39m\u001b[38;5;124m'\u001b[39m\u001b[38;5;124mTotal Sales by Month\u001b[39m\u001b[38;5;124m'\u001b[39m,\n\u001b[0;32m     10\u001b[0m     xaxis_title\u001b[38;5;241m=\u001b[39m\u001b[38;5;124m'\u001b[39m\u001b[38;5;124mMonth\u001b[39m\u001b[38;5;124m'\u001b[39m,\n\u001b[0;32m     11\u001b[0m     yaxis_title\u001b[38;5;241m=\u001b[39m\u001b[38;5;124m'\u001b[39m\u001b[38;5;124mTotal Sales ($)\u001b[39m\u001b[38;5;124m'\u001b[39m,\n\u001b[0;32m     12\u001b[0m     yaxis_tickprefix\u001b[38;5;241m=\u001b[39m\u001b[38;5;124m'\u001b[39m\u001b[38;5;124m$\u001b[39m\u001b[38;5;124m'\u001b[39m,\n\u001b[0;32m     13\u001b[0m )\n\u001b[0;32m     15\u001b[0m \u001b[38;5;66;03m# Show the plot\u001b[39;00m\n\u001b[1;32m---> 16\u001b[0m \u001b[43mfig\u001b[49m\u001b[38;5;241;43m.\u001b[39;49m\u001b[43mshow\u001b[49m\u001b[43m(\u001b[49m\u001b[43m)\u001b[49m\n\u001b[0;32m     18\u001b[0m \u001b[38;5;66;03m# Save the chart as a PNG image\u001b[39;00m\n\u001b[0;32m     19\u001b[0m fig\u001b[38;5;241m.\u001b[39mwrite_image(output_dir \u001b[38;5;241m/\u001b[39m \u001b[38;5;124m'\u001b[39m\u001b[38;5;124mmonthly_sales.png\u001b[39m\u001b[38;5;124m'\u001b[39m,\n\u001b[0;32m     20\u001b[0m                 width\u001b[38;5;241m=\u001b[39m\u001b[38;5;241m1200\u001b[39m,\n\u001b[0;32m     21\u001b[0m                 height\u001b[38;5;241m=\u001b[39m\u001b[38;5;241m400\u001b[39m,\n\u001b[0;32m     22\u001b[0m                 scale\u001b[38;5;241m=\u001b[39m\u001b[38;5;241m4\u001b[39m)\n",
            "File \u001b[1;32mc:\\Users\\debbi\\anaconda3\\envs\\spark\\lib\\site-packages\\plotly\\basedatatypes.py:3410\u001b[0m, in \u001b[0;36mBaseFigure.show\u001b[1;34m(self, *args, **kwargs)\u001b[0m\n\u001b[0;32m   3377\u001b[0m \u001b[38;5;250m\u001b[39m\u001b[38;5;124;03m\"\"\"\u001b[39;00m\n\u001b[0;32m   3378\u001b[0m \u001b[38;5;124;03mShow a figure using either the default renderer(s) or the renderer(s)\u001b[39;00m\n\u001b[0;32m   3379\u001b[0m \u001b[38;5;124;03mspecified by the renderer argument\u001b[39;00m\n\u001b[1;32m   (...)\u001b[0m\n\u001b[0;32m   3406\u001b[0m \u001b[38;5;124;03mNone\u001b[39;00m\n\u001b[0;32m   3407\u001b[0m \u001b[38;5;124;03m\"\"\"\u001b[39;00m\n\u001b[0;32m   3408\u001b[0m \u001b[38;5;28;01mimport\u001b[39;00m \u001b[38;5;21;01mplotly\u001b[39;00m\u001b[38;5;21;01m.\u001b[39;00m\u001b[38;5;21;01mio\u001b[39;00m \u001b[38;5;28;01mas\u001b[39;00m \u001b[38;5;21;01mpio\u001b[39;00m\n\u001b[1;32m-> 3410\u001b[0m \u001b[38;5;28;01mreturn\u001b[39;00m pio\u001b[38;5;241m.\u001b[39mshow(\u001b[38;5;28mself\u001b[39m, \u001b[38;5;241m*\u001b[39margs, \u001b[38;5;241m*\u001b[39m\u001b[38;5;241m*\u001b[39mkwargs)\n",
            "File \u001b[1;32mc:\\Users\\debbi\\anaconda3\\envs\\spark\\lib\\site-packages\\plotly\\io\\_renderers.py:394\u001b[0m, in \u001b[0;36mshow\u001b[1;34m(fig, renderer, validate, **kwargs)\u001b[0m\n\u001b[0;32m    389\u001b[0m         \u001b[38;5;28;01mraise\u001b[39;00m \u001b[38;5;167;01mValueError\u001b[39;00m(\n\u001b[0;32m    390\u001b[0m             \u001b[38;5;124m\"\u001b[39m\u001b[38;5;124mMime type rendering requires ipython but it is not installed\u001b[39m\u001b[38;5;124m\"\u001b[39m\n\u001b[0;32m    391\u001b[0m         )\n\u001b[0;32m    393\u001b[0m     \u001b[38;5;28;01mif\u001b[39;00m \u001b[38;5;129;01mnot\u001b[39;00m nbformat \u001b[38;5;129;01mor\u001b[39;00m Version(nbformat\u001b[38;5;241m.\u001b[39m__version__) \u001b[38;5;241m<\u001b[39m Version(\u001b[38;5;124m\"\u001b[39m\u001b[38;5;124m4.2.0\u001b[39m\u001b[38;5;124m\"\u001b[39m):\n\u001b[1;32m--> 394\u001b[0m         \u001b[38;5;28;01mraise\u001b[39;00m \u001b[38;5;167;01mValueError\u001b[39;00m(\n\u001b[0;32m    395\u001b[0m             \u001b[38;5;124m\"\u001b[39m\u001b[38;5;124mMime type rendering requires nbformat>=4.2.0 but it is not installed\u001b[39m\u001b[38;5;124m\"\u001b[39m\n\u001b[0;32m    396\u001b[0m         )\n\u001b[0;32m    398\u001b[0m     ipython_display\u001b[38;5;241m.\u001b[39mdisplay(bundle, raw\u001b[38;5;241m=\u001b[39m\u001b[38;5;28;01mTrue\u001b[39;00m)\n\u001b[0;32m    400\u001b[0m \u001b[38;5;66;03m# external renderers\u001b[39;00m\n",
            "\u001b[1;31mValueError\u001b[0m: Mime type rendering requires nbformat>=4.2.0 but it is not installed"
          ]
        }
      ],
      "source": [
        "fig = px.bar(df_monthly,\n",
        "             x='month_name',\n",
        "             y='total_sales',\n",
        "             template=plotly_template,\n",
        "             text='total_sales')\n",
        "\n",
        "# Set the layout\n",
        "fig.update_layout(\n",
        "    title='Total Sales by Month',\n",
        "    xaxis_title='Month',\n",
        "    yaxis_title='Total Sales ($)',\n",
        "    yaxis_tickprefix='$',\n",
        ")\n",
        "\n",
        "# Show the plot\n",
        "fig.show()\n",
        "\n",
        "# Save the chart as a PNG image\n",
        "fig.write_image(output_dir / 'monthly_sales.png',\n",
        "                width=1200,\n",
        "                height=400,\n",
        "                scale=4)"
      ]
    },
    {
      "cell_type": "code",
      "execution_count": null,
      "metadata": {},
      "outputs": [],
      "source": [
        "#Total Sales By Product"
      ]
    }
  ],
  "metadata": {
    "colab": {
      "provenance": []
    },
    "kernelspec": {
      "display_name": "Python 3",
      "name": "python3"
    },
    "language_info": {
      "codemirror_mode": {
        "name": "ipython",
        "version": 3
      },
      "file_extension": ".py",
      "mimetype": "text/x-python",
      "name": "python",
      "nbconvert_exporter": "python",
      "pygments_lexer": "ipython3",
      "version": "3.9.18"
    }
  },
  "nbformat": 4,
  "nbformat_minor": 0
}
